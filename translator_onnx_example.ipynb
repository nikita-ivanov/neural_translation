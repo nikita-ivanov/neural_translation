{
 "cells": [
  {
   "cell_type": "code",
   "execution_count": 1,
   "metadata": {},
   "outputs": [],
   "source": [
    "import numpy as np\n",
    "import onnxruntime\n",
    "from tokenizers import Tokenizer\n"
   ]
  },
  {
   "cell_type": "code",
   "execution_count": 2,
   "metadata": {},
   "outputs": [],
   "source": [
    "model_path = \"./models/translator_transformer_v4_2_layers.onnx\"\n",
    "\n",
    "ort_session = onnxruntime.InferenceSession(model_path,\n",
    "                                           providers=['CPUExecutionProvider'])"
   ]
  },
  {
   "cell_type": "code",
   "execution_count": 27,
   "metadata": {},
   "outputs": [
    {
     "name": "stdout",
     "output_type": "stream",
     "text": [
      "Model expects 2 inputs with names ['l_src_', 'l_tgt_']\n",
      "Shape if the 1st input: [1, 128]\n",
      "Shape if the 2nd input: [1, 128]\n"
     ]
    }
   ],
   "source": [
    "# check basic info about the model that we will need\n",
    "ort_inputs_info = ort_session.get_inputs()\n",
    "input_names = [x.name for x in ort_inputs_info]\n",
    "print(f\"Model expects {len(ort_inputs_info)} inputs with names {input_names}\")\n",
    "\n",
    "print(f\"Shape if the 1st input: {ort_inputs_info[0].shape}\")\n",
    "print(f\"Shape if the 2nd input: {ort_inputs_info[1].shape}\")"
   ]
  },
  {
   "cell_type": "code",
   "execution_count": 19,
   "metadata": {},
   "outputs": [],
   "source": [
    "# instead of hardcoding sequence lengths we infer them fron the ONNX object\n",
    "src_seq_length = ort_inputs_info[0].shape[1]\n",
    "tgt_seq_length = ort_inputs_info[1].shape[1]"
   ]
  },
  {
   "cell_type": "code",
   "execution_count": 28,
   "metadata": {},
   "outputs": [],
   "source": [
    "# we need our tokenizers which original model used for training\n",
    "src_lang = Tokenizer.from_file(\"de_tokenizer\")\n",
    "tgt_lang = Tokenizer.from_file(\"en_tokenizer\")"
   ]
  },
  {
   "cell_type": "code",
   "execution_count": 29,
   "metadata": {},
   "outputs": [],
   "source": [
    "def translate(model: onnxruntime.InferenceSession,\n",
    "              src_sentence: str,\n",
    "              src_lang: Tokenizer,\n",
    "              tgt_lang: Tokenizer,\n",
    "              max_tgt_length: int,\n",
    "              src_seq_length: int = 128,\n",
    "              tgt_seq_length: int = 128,\n",
    "              clean: bool = False) -> str:\n",
    "    \"\"\"\n",
    "    Translate a sentence using ONNX model.\n",
    "    We pass one token at a time, i.e. generating autoregressively\n",
    "    using model's own outputs as inputs.\n",
    "    \"\"\"\n",
    "    input_ids = src_lang.encode(src_sentence).ids\n",
    "    input_ids = np.pad(input_ids, (0, src_seq_length - len(input_ids)),\n",
    "                       constant_values=src_lang.token_to_id(\"<PAD>\"))\n",
    "\n",
    "    input_ids = np.reshape(input_ids, (1, -1))\n",
    "\n",
    "    tgt_indices = [tgt_lang.token_to_id(\"<BOS>\")]  # type: list[int]\n",
    "\n",
    "    for t in range(max_tgt_length):\n",
    "        tgt_ids = np.array(tgt_indices)\n",
    "        tgt_ids = np.pad(tgt_ids, (0, tgt_seq_length - len(tgt_ids)),\n",
    "                         constant_values=tgt_lang.token_to_id(\"<PAD>\"))\n",
    "        tgt_ids = np.reshape(tgt_ids, (1, -1))\n",
    "\n",
    "        # shape (1, 128, 8000) -> (batch_size, seq_length, tgt_vocab_size)\n",
    "        model_outputs = model.run(None, {\"l_src_\": input_ids,\n",
    "                                         \"l_tgt_\": tgt_ids})[0]\n",
    "\n",
    "        # we take the best prediction for step t only (generating autoregressivly)\n",
    "        prediction = model_outputs[0, t].argmax()  # type: int\n",
    "        tgt_indices.append(prediction)\n",
    "\n",
    "        if prediction == tgt_lang.token_to_id(\"<EOS>\"):\n",
    "            break\n",
    "\n",
    "    sentence = tgt_lang.decode(tgt_indices, skip_special_tokens=clean)\n",
    "\n",
    "    return sentence"
   ]
  },
  {
   "cell_type": "code",
   "execution_count": 32,
   "metadata": {},
   "outputs": [
    {
     "data": {
      "text/plain": [
       "'hello world, how is it going?'"
      ]
     },
     "execution_count": 32,
     "metadata": {},
     "output_type": "execute_result"
    }
   ],
   "source": [
    "input_sentence = \"Hallo Welt, wie geht es?\"\n",
    "\n",
    "translate(model=ort_session,\n",
    "          src_sentence=input_sentence,\n",
    "          src_lang=src_lang,\n",
    "          tgt_lang=tgt_lang,\n",
    "          max_tgt_length=42,\n",
    "          src_seq_length=src_seq_length,\n",
    "          tgt_seq_length=tgt_seq_length,\n",
    "          clean=True)"
   ]
  }
 ],
 "metadata": {
  "kernelspec": {
   "display_name": "dlmetal",
   "language": "python",
   "name": "python3"
  },
  "language_info": {
   "codemirror_mode": {
    "name": "ipython",
    "version": 3
   },
   "file_extension": ".py",
   "mimetype": "text/x-python",
   "name": "python",
   "nbconvert_exporter": "python",
   "pygments_lexer": "ipython3",
   "version": "3.11.9"
  }
 },
 "nbformat": 4,
 "nbformat_minor": 2
}
