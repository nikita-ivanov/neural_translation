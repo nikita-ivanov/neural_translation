{
 "cells": [
  {
   "cell_type": "code",
   "execution_count": 37,
   "metadata": {},
   "outputs": [],
   "source": [
    "import time\n",
    "from collections import Counter\n",
    "from collections.abc import Callable\n",
    "\n",
    "import evaluate\n",
    "import matplotlib.pyplot as plt\n",
    "import numpy as np\n",
    "import spacy\n",
    "import torch\n",
    "import torch.nn.functional as F  # noqa: N812\n",
    "from spacy.language import Language\n",
    "from torch import Tensor, nn\n",
    "from tqdm import tqdm\n",
    "\n",
    "import datasets"
   ]
  },
  {
   "cell_type": "markdown",
   "metadata": {},
   "source": [
    "### Data processing"
   ]
  },
  {
   "cell_type": "code",
   "execution_count": 2,
   "metadata": {},
   "outputs": [
    {
     "name": "stdout",
     "output_type": "stream",
     "text": [
      "mps\n"
     ]
    }
   ],
   "source": [
    "if torch.cuda.is_available():\n",
    "    device = torch.device(\"cuda\")\n",
    "elif torch.backends.mps.is_available():\n",
    "    # for Apple chips\n",
    "    device = torch.device(\"mps\")\n",
    "else:\n",
    "    device = torch.device(\"cpu\")\n",
    "\n",
    "print(device)"
   ]
  },
  {
   "cell_type": "code",
   "execution_count": 3,
   "metadata": {},
   "outputs": [],
   "source": [
    "dataset = datasets.load_dataset(\"bentrevett/multi30k\")"
   ]
  },
  {
   "cell_type": "code",
   "execution_count": 4,
   "metadata": {},
   "outputs": [],
   "source": [
    "train_data, valid_data, test_data = (\n",
    "    dataset[\"train\"],\n",
    "    dataset[\"validation\"],\n",
    "    dataset[\"test\"],\n",
    ")"
   ]
  },
  {
   "cell_type": "code",
   "execution_count": 5,
   "metadata": {},
   "outputs": [
    {
     "data": {
      "text/plain": [
       "{'en': 'Two young, White males are outside near many bushes.',\n",
       " 'de': 'Zwei junge weiße Männer sind im Freien in der Nähe vieler Büsche.'}"
      ]
     },
     "execution_count": 5,
     "metadata": {},
     "output_type": "execute_result"
    }
   ],
   "source": [
    "train_data[0]"
   ]
  },
  {
   "cell_type": "code",
   "execution_count": 6,
   "metadata": {},
   "outputs": [],
   "source": [
    "# !python -m spacy download en_core_web_sm\n",
    "# !python -m spacy download de_core_news_sm"
   ]
  },
  {
   "cell_type": "code",
   "execution_count": 7,
   "metadata": {},
   "outputs": [],
   "source": [
    "en_nlp = spacy.load(\"en_core_web_sm\")\n",
    "de_nlp = spacy.load(\"de_core_news_sm\")"
   ]
  },
  {
   "cell_type": "code",
   "execution_count": 8,
   "metadata": {},
   "outputs": [
    {
     "data": {
      "text/plain": [
       "['We', \"'re\", 'gon', 'na', 'go', 'swimming']"
      ]
     },
     "execution_count": 8,
     "metadata": {},
     "output_type": "execute_result"
    }
   ],
   "source": [
    "string = \"We're gonna go swimming\"\n",
    "\n",
    "[token.text for token in en_nlp.tokenizer(string)]"
   ]
  },
  {
   "cell_type": "code",
   "execution_count": 9,
   "metadata": {},
   "outputs": [
    {
     "name": "stderr",
     "output_type": "stream",
     "text": [
      "Map: 100%|██████████| 29000/29000 [00:01<00:00, 16536.46 examples/s]\n",
      "Map: 100%|██████████| 1014/1014 [00:00<00:00, 16902.50 examples/s]\n",
      "Map: 100%|██████████| 1000/1000 [00:00<00:00, 17104.53 examples/s]\n"
     ]
    }
   ],
   "source": [
    "def tokenize_example(example: dict[str, str],\n",
    "                     en_nlp: Language,\n",
    "                     de_nlp: Language,\n",
    "                     max_length: int,\n",
    "                     lower: bool,  # noqa: FBT001\n",
    "                     bos_token: str,\n",
    "                     eos_token: str) -> dict[str, list[str]]:\n",
    "    en_tokens = [token.text for token in en_nlp.tokenizer(example[\"en\"])][:max_length]\n",
    "    de_tokens = [token.text for token in de_nlp.tokenizer(example[\"de\"])][:max_length]\n",
    "\n",
    "    if lower:\n",
    "        en_tokens = [token.lower() for token in en_tokens]\n",
    "        de_tokens = [token.lower() for token in de_tokens]\n",
    "\n",
    "    en_tokens = [bos_token, *en_tokens, eos_token]\n",
    "    de_tokens = [bos_token, *de_tokens, eos_token]\n",
    "\n",
    "    return {\"en_tokens\": en_tokens, \"de_tokens\": de_tokens}\n",
    "\n",
    "max_length = 1000\n",
    "lower = True\n",
    "sos_token = \"<BOS>\"  # noqa: S105\n",
    "eos_token = \"<EOS>\"  # noqa: S105\n",
    "\n",
    "fn_kwargs = {\n",
    "    \"en_nlp\": en_nlp,\n",
    "    \"de_nlp\": de_nlp,\n",
    "    \"max_length\": max_length,\n",
    "    \"lower\": lower,\n",
    "    \"bos_token\": sos_token,\n",
    "    \"eos_token\": eos_token,\n",
    "}\n",
    "\n",
    "train_data = train_data.map(tokenize_example, fn_kwargs=fn_kwargs)\n",
    "valid_data = valid_data.map(tokenize_example, fn_kwargs=fn_kwargs)\n",
    "test_data = test_data.map(tokenize_example, fn_kwargs=fn_kwargs)"
   ]
  },
  {
   "cell_type": "markdown",
   "metadata": {},
   "source": [
    "We build our own `Language` object that will adapt to a text corpus and store vocabulary."
   ]
  },
  {
   "cell_type": "code",
   "execution_count": 10,
   "metadata": {},
   "outputs": [],
   "source": [
    "class Language:\n",
    "    def __init__(self, name: str = None, min_count: int = 2) -> None:\n",
    "        self.name = name\n",
    "        self._min_count = min_count\n",
    "\n",
    "        self.index_to_word = {0: \"<BOS>\", 1: \"<PAD>\", 2: \"<EOS>\", 3: \"<UNK>\"}\n",
    "        self.word_counts = Counter(self.index_to_word.values())\n",
    "\n",
    "        self._last_index = list(self.index_to_word.keys())[-1]  # 3\n",
    "        self._max_seq_length = 0\n",
    "\n",
    "    def __repr__(self) -> None:\n",
    "        return f\"Language({self.name})\"\n",
    "\n",
    "    @property\n",
    "    def max_seq_length(self) -> int:\n",
    "        return self._max_seq_length\n",
    "\n",
    "    @property\n",
    "    def word_to_index(self) -> dict[str, int]:\n",
    "        return {word: index for index, word in self.index_to_word.items()}\n",
    "\n",
    "    @property\n",
    "    def words(self) -> list[str]:\n",
    "        return list(self.index_to_word.values())\n",
    "\n",
    "    @property\n",
    "    def num_words(self) -> int:\n",
    "        return len(self.words)\n",
    "\n",
    "    def get_word(self, idx: int) -> str:\n",
    "        return self.index_to_word.get(idx, \"<UNK>\")\n",
    "\n",
    "    def get_idx(self, word: str) -> int:\n",
    "        return self.word_to_index.get(word, self.word_to_index[\"<UNK>\"])\n",
    "\n",
    "    def string(self, idxs: list[int] | Tensor) -> str:\n",
    "        if isinstance(idxs, Tensor):\n",
    "            idxs = idxs.cpu().detach().numpy().squeeze()\n",
    "\n",
    "        return \" \".join([self.get_word(idx) for idx in idxs])\n",
    "\n",
    "    def indices(self, sentence: str | list[str]) -> list[int]:\n",
    "        if isinstance(sentence, str):\n",
    "            sentence = sentence.split()\n",
    "\n",
    "        return [self.get_idx(word) for word in sentence]\n",
    "\n",
    "    def add_word(self, word: str) -> None:\n",
    "        if word not in self.words:\n",
    "            self.word_counts.update([word])\n",
    "\n",
    "            if self.word_counts[word] > self._min_count:\n",
    "                # only update frequent words\n",
    "                self.index_to_word[self._last_index + 1] = word\n",
    "                self._last_index += 1\n",
    "\n",
    "    def add_sentence(self, sentence: list[str]) -> None:\n",
    "        seq_length = len(sentence)\n",
    "        if seq_length > self._max_seq_length:\n",
    "            self._max_seq_length = seq_length\n",
    "\n",
    "        for word in sentence:\n",
    "            self.add_word(word)"
   ]
  },
  {
   "cell_type": "code",
   "execution_count": 11,
   "metadata": {},
   "outputs": [
    {
     "data": {
      "text/plain": [
       "29000"
      ]
     },
     "execution_count": 11,
     "metadata": {},
     "output_type": "execute_result"
    }
   ],
   "source": [
    "train_data.num_rows"
   ]
  },
  {
   "cell_type": "code",
   "execution_count": 12,
   "metadata": {},
   "outputs": [
    {
     "name": "stdout",
     "output_type": "stream",
     "text": [
      "Max seq length src: 46\n",
      "Max seq length tgt: 43\n"
     ]
    }
   ],
   "source": [
    "min_word_counts = 2\n",
    "tgt_lang = Language(\"English\", min_count=min_word_counts)\n",
    "src_lang = Language(\"German\", min_count=min_word_counts)\n",
    "\n",
    "NUM_EXAMPLES = train_data.num_rows\n",
    "\n",
    "# build vocabs\n",
    "for example in train_data.take(NUM_EXAMPLES):\n",
    "    src_lang.add_sentence(example[\"de_tokens\"])\n",
    "    tgt_lang.add_sentence(example[\"en_tokens\"])\n",
    "\n",
    "print(f\"Max seq length src: {src_lang.max_seq_length}\")\n",
    "print(f\"Max seq length tgt: {tgt_lang.max_seq_length}\")"
   ]
  },
  {
   "cell_type": "code",
   "execution_count": 13,
   "metadata": {},
   "outputs": [
    {
     "name": "stdout",
     "output_type": "stream",
     "text": [
      "Vocab size src: 5374\n",
      "Vocab size tgt: 4556\n"
     ]
    }
   ],
   "source": [
    "print(f\"Vocab size src: {src_lang.num_words}\")\n",
    "print(f\"Vocab size tgt: {tgt_lang.num_words}\")"
   ]
  },
  {
   "cell_type": "code",
   "execution_count": 14,
   "metadata": {},
   "outputs": [],
   "source": [
    "# def numericalize_example(example, tgt_lang: Language, src_lang: Language):\n",
    "#     en_ids = tgt_lang.indices(example[\"en_tokens\"])\n",
    "#     de_ids = src_lang.indices(example[\"de_tokens\"])\n",
    "#     return {\"en_ids\": en_ids, \"de_ids\": de_ids}\n",
    "\n",
    "# fn_kwargs = {\"tgt_lang\": tgt_lang, \"src_lang\": src_lang}\n",
    "\n",
    "# train_data = train_data.take(NUM_EXAMPLES).map(numericalize_example, fn_kwargs=fn_kwargs)\n",
    "# valid_data = valid_data.map(numericalize_example, fn_kwargs=fn_kwargs)\n",
    "# test_data = test_data.map(numericalize_example, fn_kwargs=fn_kwargs)\n",
    "\n",
    "# train_data.save_to_disk(\"datasets/train_data_de_en_v2.dataset\")\n",
    "# valid_data.save_to_disk(\"datasets/valid_data_de_en_v2.dataset\")\n",
    "# test_data.save_to_disk(\"datasets/test_data_de_en_v2.dataset\")\n",
    "\n",
    "# either load from disk or uncomment code above and run\n",
    "train_data = datasets.load_from_disk(\"datasets/train_data_de_en_v2.dataset\")\n",
    "valid_data = datasets.load_from_disk(\"datasets/valid_data_de_en_v2.dataset\")\n",
    "test_data = datasets.load_from_disk(\"datasets/test_data_de_en_v2.dataset\")"
   ]
  },
  {
   "cell_type": "code",
   "execution_count": 15,
   "metadata": {},
   "outputs": [
    {
     "name": "stdout",
     "output_type": "stream",
     "text": [
      "<BOS> ein kleines mädchen klettert in ein <UNK> aus holz . <EOS>\n",
      "<BOS> a little girl climbing into a wooden playhouse . <EOS>\n"
     ]
    }
   ],
   "source": [
    "print(src_lang.string(train_data[2][\"de_ids\"]))\n",
    "print(tgt_lang.string(train_data[2][\"en_ids\"]))"
   ]
  },
  {
   "cell_type": "code",
   "execution_count": 16,
   "metadata": {},
   "outputs": [],
   "source": [
    "data_type = \"torch\"\n",
    "format_columns = [\"en_ids\", \"de_ids\"]\n",
    "\n",
    "train_data = train_data.with_format(\n",
    "    type=data_type, columns=format_columns, output_all_columns=True\n",
    ")\n",
    "\n",
    "valid_data = valid_data.with_format(\n",
    "    type=data_type, columns=format_columns, output_all_columns=True\n",
    ")\n",
    "\n",
    "test_data = test_data.with_format(\n",
    "    type=data_type, columns=format_columns, output_all_columns=True\n",
    ")"
   ]
  },
  {
   "cell_type": "code",
   "execution_count": 18,
   "metadata": {},
   "outputs": [],
   "source": [
    "\n",
    "\n",
    "def get_collate_fn(pad_index: int) -> Callable[[dict], dict]:\n",
    "    def collate_fn(batch: dict) -> dict[str, int]:\n",
    "        batch_en_ids = [example[\"en_ids\"] for example in batch]\n",
    "        batch_de_ids = [example[\"de_ids\"] for example in batch]\n",
    "        batch_en_ids = nn.utils.rnn.pad_sequence(batch_en_ids, padding_value=pad_index)\n",
    "        batch_de_ids = nn.utils.rnn.pad_sequence(batch_de_ids, padding_value=pad_index)\n",
    "        return {\n",
    "            \"en_ids\": batch_en_ids,\n",
    "            \"de_ids\": batch_de_ids,\n",
    "        }\n",
    "\n",
    "    return collate_fn\n",
    "\n",
    "def get_data_loader(dataset: datasets.Dataset, batch_size: int, pad_index: int, *,\n",
    "                    shuffle: bool = True, pin_memory: bool = False) -> torch.utils.data.DataLoader:\n",
    "    collate_fn = get_collate_fn(pad_index)\n",
    "    return torch.utils.data.DataLoader(\n",
    "        dataset=dataset,\n",
    "        batch_size=batch_size,\n",
    "        collate_fn=collate_fn,\n",
    "        shuffle=shuffle,\n",
    "        pin_memory=pin_memory,\n",
    "    )\n",
    "\n",
    "batch_size = 128\n",
    "\n",
    "train_data_loader = get_data_loader(train_data, batch_size, tgt_lang.word_to_index[\"<PAD>\"])\n",
    "valid_data_loader = get_data_loader(valid_data, batch_size, tgt_lang.word_to_index[\"<PAD>\"])\n",
    "test_data_loader = get_data_loader(test_data, batch_size, tgt_lang.word_to_index[\"<PAD>\"])"
   ]
  },
  {
   "cell_type": "markdown",
   "metadata": {},
   "source": [
    "### Model"
   ]
  },
  {
   "cell_type": "code",
   "execution_count": 25,
   "metadata": {},
   "outputs": [],
   "source": [
    "class MultiHeadAttention(nn.Module):\n",
    "    def __init__(self, hidden_dim: int, num_heads: int, dropout_ratio: float = 0.1):\n",
    "        if hidden_dim % num_heads != 0:\n",
    "            msg = \"hidden_dim must be divisible by num_heads\"\n",
    "            raise ValueError(msg)\n",
    "\n",
    "        super().__init__()\n",
    "        self.hidden_dim = hidden_dim\n",
    "        self.num_heads = num_heads\n",
    "        self.head_dim = hidden_dim // num_heads\n",
    "\n",
    "        self.fc_q = nn.Linear(hidden_dim, hidden_dim)\n",
    "        self.fc_k = nn.Linear(hidden_dim, hidden_dim)\n",
    "        self.fc_v = nn.Linear(hidden_dim, hidden_dim)\n",
    "\n",
    "        self.out = nn.Linear(hidden_dim, hidden_dim)\n",
    "        self.dropout = nn.Dropout(dropout_ratio)\n",
    "\n",
    "        self.scaling = 1 / (self.head_dim ** .5)\n",
    "\n",
    "    def forward(self, q: Tensor, k: Tensor, v: Tensor, mask: Tensor = None) -> Tensor:\n",
    "        \"\"\"\n",
    "        Inputs\n",
    "            q: query of size (batch_size, seq_length, hidden_dim)\n",
    "            k: query of size (batch_size, seq_length, hidden_dim)\n",
    "            v: query of size (batch_size, seq_length, hidden_dim)\n",
    "            mask: optional mask of size (batch_size, 1, 1, seq_length)\n",
    "                  or (batch_size, 1, seq_length, seq_length)\n",
    "        Outputs\n",
    "            attention weighted embedding vectors of size (batch_size, seq_length, hidden_dim)\n",
    "        \"\"\"\n",
    "        # all Q, K, V are of shape (batch_size, seq_length, hidden_dim)\n",
    "        Q = self.fc_q(q)\n",
    "        K = self.fc_k(k)\n",
    "        V = self.fc_v(v)\n",
    "\n",
    "        batch_size, seq_length, _ = Q.size()\n",
    "\n",
    "        # all Q, K, V are of shape (batch_size, num_heads, seq_length, head_dim)\n",
    "        Q = Q.view(batch_size, -1, self.num_heads, self.head_dim).permute(0, 2, 1, 3)\n",
    "        K = K.view(batch_size, -1, self.num_heads, self.head_dim).permute(0, 2, 1, 3)\n",
    "        V = V.view(batch_size, -1, self.num_heads, self.head_dim).permute(0, 2, 1, 3)\n",
    "\n",
    "        # energy.shape (batch_size, num_heads, seq_length, seq_length)\n",
    "        energy = torch.matmul(Q, K.permute(0, 1, 3, 2)) * self.scaling  # type: Tensor\n",
    "\n",
    "        if mask is not None:\n",
    "            energy = energy.masked_fill(mask == 0, -1e10)\n",
    "\n",
    "        # attention.shape (batch_size, num_heads, seq_length, seq_length)\n",
    "        attention = energy.softmax(dim=-1)\n",
    "        attention = self.dropout(attention)\n",
    "\n",
    "        # x.shape (batch_size, num_heads, seq_length, head_dim)\n",
    "        x = torch.matmul(attention, V)\n",
    "\n",
    "        # x.shape (batch_size, seq_length, num_heads, head_dim)\n",
    "        x = x.permute(0, 2, 1, 3)\n",
    "\n",
    "        # x.shape (batch_size, seq_length, hidden_dim)\n",
    "        x = x.reshape(batch_size, seq_length, self.hidden_dim)\n",
    "\n",
    "        # x.shape (batch_size, seq_length, hidden_dim)\n",
    "        x = self.out(x)\n",
    "\n",
    "        return x"
   ]
  },
  {
   "cell_type": "code",
   "execution_count": 26,
   "metadata": {},
   "outputs": [],
   "source": [
    "class PositionWiseFeedForward(nn.Module):\n",
    "    def __init__(self, hidden_dim: int, ff_dim: int, dropout_ratio: float = 0.1):\n",
    "        super().__init__()\n",
    "\n",
    "        self.fc_1 = nn.Linear(hidden_dim, ff_dim)\n",
    "        self.fc_2 = nn.Linear(ff_dim, hidden_dim)\n",
    "        self.dropout = nn.Dropout(dropout_ratio)\n",
    "\n",
    "    def forward(self, x) -> Tensor:\n",
    "        # x.shape (batch_size, seq_length, emb_dim)\n",
    "        x = self.fc_1(x)\n",
    "        x = F.relu(x)\n",
    "        x = self.dropout(x)\n",
    "        x = self.fc_2(x)\n",
    "        return x\n",
    "\n",
    "class EncoderLayer(nn.Module):\n",
    "    def __init__(self, hidden_dim: int, num_heads: int, ff_dim:int, dropout_ratio: float = 0.1):\n",
    "        super().__init__()\n",
    "\n",
    "        self.norm_1 = nn.LayerNorm(hidden_dim)\n",
    "        self.norm_2 = nn.LayerNorm(hidden_dim)\n",
    "        self.dropout = nn.Dropout(dropout_ratio)\n",
    "        self.ff = PositionWiseFeedForward(hidden_dim=hidden_dim, ff_dim=ff_dim)\n",
    "\n",
    "        self.mha = MultiHeadAttention(hidden_dim=hidden_dim,\n",
    "                                      num_heads=num_heads,\n",
    "                                      dropout_ratio=dropout_ratio)\n",
    "\n",
    "    def forward(self, src: Tensor, mask: Tensor | None = None) -> Tensor:\n",
    "        \"\"\"\n",
    "        Inputs\n",
    "            input of size (batch_size, seq_length, hidden_dim)\n",
    "        Outputs\n",
    "            (batch_size, seq_length, hidden_dim)\n",
    "        \"\"\"\n",
    "        # x1.shape (batch_size, seq_length, hidden_dim)\n",
    "        x1 = self.mha(src, src, src, mask)  # type: Tensor\n",
    "        x1 = self.norm_1(self.dropout(x1) + src)\n",
    "\n",
    "        # x2.shape (batch_size, seq_length, hidden_dim)\n",
    "        x2 = self.ff(x1)\n",
    "        x2 = self.norm_2(x1 + self.dropout(x2))\n",
    "\n",
    "        return x2"
   ]
  },
  {
   "cell_type": "code",
   "execution_count": 27,
   "metadata": {},
   "outputs": [],
   "source": [
    "class Encoder(nn.Module):\n",
    "    def __init__(self, vocab_size: int, hidden_dim: int,\n",
    "                 num_heads: int, num_layers: int, ff_dim: int, max_seq_length: int,\n",
    "                 device: torch.device, dropout_ratio: float = 0.1):\n",
    "        super().__init__()\n",
    "\n",
    "        self.device = device\n",
    "        self.scaling = hidden_dim ** (0.5)\n",
    "\n",
    "        self.token_embedding = nn.Embedding(vocab_size, hidden_dim)\n",
    "        self.positional_embedding = nn.Embedding(max_seq_length, hidden_dim)\n",
    "        self.dropout = nn.Dropout(dropout_ratio)\n",
    "\n",
    "        self.layers = nn.ModuleList([EncoderLayer(hidden_dim=hidden_dim,\n",
    "                                                  num_heads=num_heads, ff_dim=ff_dim,\n",
    "                                                  dropout_ratio=dropout_ratio)\n",
    "                                     for _ in range(num_layers)])\n",
    "\n",
    "    def forward(self, src: Tensor, mask: Tensor | None = None) -> Tensor:\n",
    "        \"\"\"\n",
    "        Inputs\n",
    "            input of shape (batch_size, seq_legth)\n",
    "        Outputs\n",
    "            encoded sequence of shape (batch_size, seq_legth, hidden_dim)\n",
    "        \"\"\"\n",
    "        batch_size, seq_length = src.size()\n",
    "        positions = torch.arange(0, seq_length).unsqueeze(0).repeat(batch_size, 1).to(self.device)\n",
    "\n",
    "        # x.shape (batch_size, seq_legth, hidden_dim)\n",
    "        x = self.token_embedding(src) * self.scaling + self.positional_embedding(positions)\n",
    "        x = self.dropout(x)\n",
    "\n",
    "        for layer in self.layers:\n",
    "            # x.shape (batch_size, seq_legth, hidden_dim)\n",
    "            x = layer(x, mask)\n",
    "\n",
    "        return x"
   ]
  },
  {
   "cell_type": "code",
   "execution_count": 28,
   "metadata": {},
   "outputs": [],
   "source": [
    "class DecoderLayer(nn.Module):\n",
    "    def __init__(self, hidden_dim: int, num_heads: int,\n",
    "                 ff_dim:int, dropout_ratio: float = 0.1):\n",
    "        super().__init__()\n",
    "\n",
    "        self.norm_1 = nn.LayerNorm(hidden_dim)\n",
    "        self.norm_2 = nn.LayerNorm(hidden_dim)\n",
    "        self.norm_3 = nn.LayerNorm(hidden_dim)\n",
    "        self.dropout = nn.Dropout(dropout_ratio)\n",
    "        self.ff = PositionWiseFeedForward(hidden_dim=hidden_dim, ff_dim=ff_dim)\n",
    "\n",
    "        self.self_attention = MultiHeadAttention(hidden_dim=hidden_dim,\n",
    "                                      num_heads=num_heads, dropout_ratio=dropout_ratio)\n",
    "        self.enc_attention = MultiHeadAttention(hidden_dim=hidden_dim,\n",
    "                                      num_heads=num_heads, dropout_ratio=dropout_ratio)\n",
    "\n",
    "    def forward(self, dec_input: Tensor, enc_outputs: Tensor,\n",
    "                enc_mask: Tensor, dec_mask: Tensor) -> Tensor:\n",
    "        \"\"\"\n",
    "        Inputs\n",
    "            dec_input of shape (batch_size, seq_length, hidden_dim)\n",
    "            enc_input of shape (batch_size, seq_length, hidden_dim)\n",
    "            enc_mask of shape (batch_size, 1, 1, seq_length)\n",
    "            dec_mask of shape (batch_size, 1, seq_length, seq_length)\n",
    "        Outputs\n",
    "            (batch_size, seq_length, hidden_dim)\n",
    "        \"\"\"\n",
    "        # x1.shape (batch_size, seq_length, hidden_dim)\n",
    "        x1 = self.self_attention(dec_input, dec_input, dec_input, dec_mask)\n",
    "        x1 = self.norm_1(dec_input + self.dropout(x1))\n",
    "\n",
    "        # x2.shape (batch_size, seq_length, hidden_dim)\n",
    "        x2 = self.enc_attention(x1, enc_outputs, enc_outputs, enc_mask)\n",
    "        x2 = self.norm_2(x1 + self.dropout(x2))\n",
    "        x2 = self.norm_3(self.ff(x2))\n",
    "\n",
    "        return x2"
   ]
  },
  {
   "cell_type": "code",
   "execution_count": 29,
   "metadata": {},
   "outputs": [],
   "source": [
    "class Decoder(nn.Module):\n",
    "    def __init__(self, vocab_size: int, hidden_dim: int,\n",
    "                 num_heads: int, num_layers: int, ff_dim: int, max_seq_length: int,\n",
    "                 device: torch.device, dropout_ratio: float = 0.1):\n",
    "        super().__init__()\n",
    "\n",
    "        self.device = device\n",
    "        self.scaling = hidden_dim ** (0.5)\n",
    "\n",
    "        self.token_embedding = nn.Embedding(vocab_size, hidden_dim)\n",
    "        self.positional_embedding = nn.Embedding(max_seq_length, hidden_dim)\n",
    "        self.dropout = nn.Dropout(dropout_ratio)\n",
    "        self.fc = nn.Linear(hidden_dim, vocab_size)\n",
    "\n",
    "        self.layers = nn.ModuleList([DecoderLayer(hidden_dim=hidden_dim,\n",
    "                                                  num_heads=num_heads, ff_dim=ff_dim,\n",
    "                                                  dropout_ratio=dropout_ratio)\n",
    "                                     for _ in range(num_layers)])\n",
    "\n",
    "    def forward(self, dec_input: Tensor, enc_outputs: Tensor,\n",
    "                enc_mask: Tensor, dec_mask: Tensor) -> Tensor:\n",
    "        \"\"\"\n",
    "        Inputs\n",
    "            dec_inputs of shape (batch_size, seq_legth)\n",
    "            enc_outputs of shape (batch_size, seq_legth, hidden_dim)\n",
    "            dec_mask of shape (batch_size, 1, seq_length, seq_length)\n",
    "            enc_mask of shape (batch_size, 1, 1, seq_length)\n",
    "        Outputs\n",
    "            log-probabilities of shape (batch_size, seq_legth, hidden_dim)\n",
    "        \"\"\"\n",
    "        batch_size, seq_length = dec_input.size()\n",
    "        positions = torch.arange(0, seq_length).unsqueeze(0).repeat(batch_size, 1).to(self.device)\n",
    "\n",
    "        # x.shape (batch_size, seq_legth, hidden_dim)\n",
    "        x = self.token_embedding(dec_input) * self.scaling + self.positional_embedding(positions)\n",
    "        x = self.dropout(x)\n",
    "\n",
    "        for layer in self.layers:\n",
    "            # x.shape (batch_size, seq_legth, hidden_dim)\n",
    "            x = layer(x, enc_outputs, enc_mask, dec_mask)\n",
    "\n",
    "        # x.shape (batch_size, seq_length, vocab_size)\n",
    "        x = self.fc(x)\n",
    "        x = F.log_softmax(x, dim=-1)\n",
    "\n",
    "        return x"
   ]
  },
  {
   "cell_type": "code",
   "execution_count": 30,
   "metadata": {},
   "outputs": [],
   "source": [
    "class TranslatorModel(nn.Module):\n",
    "    def __init__(self, encoder: Encoder, decoder: Decoder, enc_pad_token: int,\n",
    "                 dec_pad_token: int, device: torch.device):\n",
    "        super().__init__()\n",
    "\n",
    "        self.encoder = encoder\n",
    "        self.decoder = decoder\n",
    "        self.enc_pad_token = enc_pad_token\n",
    "        self.dec_pad_token = dec_pad_token\n",
    "        self.device = device\n",
    "\n",
    "    def _create_enc_mask(self, enc_inputs: Tensor) -> Tensor:\n",
    "        \"\"\"\n",
    "        Inputs\n",
    "            enc_inputs of shape (batch_size, seq_length)\n",
    "        Outputs\n",
    "            mask with 0s for PAD tokens of shape (batch_size, 1, 1, seq_length)\n",
    "        \"\"\"\n",
    "        return (enc_inputs != self.enc_pad_token).unsqueeze(1).unsqueeze(2)\n",
    "\n",
    "    def _create_dec_mask(self, dec_inputs: Tensor) -> Tensor:\n",
    "        \"\"\"\n",
    "        Inputs\n",
    "            dec_inputs of shape (batch_size, seq_length)\n",
    "        Outputs\n",
    "            masks PAD tokens and future tokens; shape (batch_size, 1, seq_length, seq_length)\n",
    "        \"\"\"\n",
    "        # mask_1.shape (batch_size, 1, 1, seq_length)\n",
    "        mask_1 = (dec_inputs != self.dec_pad_token).unsqueeze(1).unsqueeze(2)\n",
    "\n",
    "        batch_size, seq_length = dec_inputs.size()\n",
    "\n",
    "        # mask_2.shape (seq_length, seq_length)\n",
    "        mask_2 = torch.tril(torch.ones((seq_length, seq_length), device= self.device)).bool()\n",
    "\n",
    "        #mask_2.shape (batch_size, 1, seq_length, seq_length)\n",
    "        mask_2 = mask_2.unsqueeze(0).unsqueeze(0).repeat(batch_size, 1, 1, 1)\n",
    "\n",
    "        mask = mask_1 & mask_2\n",
    "\n",
    "        return mask\n",
    "\n",
    "    def forward(self, src: Tensor, tgt: Tensor) -> Tensor:\n",
    "        \"\"\"\n",
    "        Inputs\n",
    "            src of shape (batch_size, src_seq_length)\n",
    "            tgt of shape (batch_size, tgt_seq_length)\n",
    "        Outputs\n",
    "            decoded sequence of shape (batch_size, seq_length, tgt_vocab_size)\n",
    "        \"\"\"\n",
    "        enc_mask = self._create_enc_mask(src)\n",
    "        dec_mask = self._create_dec_mask(tgt)\n",
    "\n",
    "        enc_outputs = self.encoder(src, enc_mask)\n",
    "        dec_outputs = self.decoder(tgt, enc_outputs, enc_mask, dec_mask)\n",
    "\n",
    "        return dec_outputs"
   ]
  },
  {
   "cell_type": "markdown",
   "metadata": {},
   "source": [
    "### Training"
   ]
  },
  {
   "cell_type": "code",
   "execution_count": 31,
   "metadata": {},
   "outputs": [
    {
     "name": "stdout",
     "output_type": "stream",
     "text": [
      "Model num parameters: 7,717,836\n"
     ]
    }
   ],
   "source": [
    "def init_weights(model: nn.Module) -> None:\n",
    "    if hasattr(model, \"weight\") and model.weight.dim() > 1:\n",
    "        nn.init.xavier_uniform_(model.weight.data)\n",
    "\n",
    "def count_parameters(model: nn.Module) -> int:\n",
    "    return sum(p.numel() for p in model.parameters() if p.requires_grad)\n",
    "\n",
    "loss_function = nn.NLLLoss(ignore_index=tgt_lang.get_idx(\"<PAD>\"))\n",
    "\n",
    "dropout_ratio = 0.3\n",
    "hidden_dim = 256\n",
    "ff_dim = 512\n",
    "num_heads = 4\n",
    "num_layers = 3\n",
    "\n",
    "encoder = Encoder(vocab_size=src_lang.num_words,\n",
    "                  hidden_dim=hidden_dim,\n",
    "                  num_heads=num_heads,\n",
    "                  num_layers=num_layers,\n",
    "                  ff_dim=ff_dim,\n",
    "                  max_seq_length=100,\n",
    "                  device=device,\n",
    "                  dropout_ratio=dropout_ratio).to(device)\n",
    "\n",
    "decoder = Decoder(vocab_size=tgt_lang.num_words,\n",
    "                  hidden_dim=hidden_dim,\n",
    "                  num_heads=num_heads,\n",
    "                  num_layers=num_layers,\n",
    "                  ff_dim=ff_dim,\n",
    "                  max_seq_length=100,\n",
    "                  device=device,\n",
    "                  dropout_ratio=dropout_ratio).to(device)\n",
    "\n",
    "translator = TranslatorModel(encoder=encoder,\n",
    "                             decoder=decoder,\n",
    "                             enc_pad_token=src_lang.get_idx(\"<PAD>\"),\n",
    "                             dec_pad_token=tgt_lang.get_idx(\"<PAD>\"),\n",
    "                             device=device).to(device)\n",
    "\n",
    "translator.apply(init_weights)\n",
    "print(f\"Model num parameters: {count_parameters(translator):,}\")\n",
    "\n",
    "optimizer = torch.optim.Adam(translator.parameters(), lr=0.0005)"
   ]
  },
  {
   "cell_type": "code",
   "execution_count": 32,
   "metadata": {},
   "outputs": [],
   "source": [
    "def run_batch(model: nn.Module,\n",
    "              loss_function: nn.NLLLoss,\n",
    "              batch: dict[str, Tensor],\n",
    "              device: torch.device) -> float:\n",
    "    # src.shape (batch_size, seq_length)\n",
    "    src = batch[\"de_ids\"].to(device).transpose(1, 0)  # type: Tensor\n",
    "    tgt = batch[\"en_ids\"].to(device).transpose(1, 0)  # type: Tensor\n",
    "\n",
    "    log_probs = model(src, tgt[:, :-1])  # type: Tensor\n",
    "    log_probs = log_probs.reshape(-1, log_probs.size(-1))\n",
    "\n",
    "    loss = loss_function(log_probs, tgt[:, 1:].reshape(-1).long())\n",
    "\n",
    "    return loss\n",
    "\n",
    "def train_one_epoch(model: nn.Module,\n",
    "                    optimizer: torch.optim.Optimizer,\n",
    "                    loss_function: nn.NLLLoss,\n",
    "                    data_loader: torch.utils.data.DataLoader,\n",
    "                    device: torch.device) -> float:\n",
    "    model.train()\n",
    "\n",
    "    losses = []\n",
    "    for batch in tqdm(data_loader):\n",
    "        optimizer.zero_grad()\n",
    "\n",
    "        loss = run_batch(model=model, loss_function=loss_function, batch=batch, device=device)\n",
    "        losses.append(loss.item())\n",
    "\n",
    "        loss.backward()\n",
    "\n",
    "        nn.utils.clip_grad_norm_(translator.parameters(), 1.0)\n",
    "\n",
    "        optimizer.step()\n",
    "\n",
    "    return sum(losses) / len(losses)\n",
    "\n",
    "def translate_from_tensor(model: nn.Module, src: Tensor,\n",
    "                          tgt_lang: Language, tgt: Tensor) -> str:\n",
    "    # outputs.shape (batch_size, tgt_seq_length, tgt_vocab_size)\n",
    "    log_probs = model(src, tgt=tgt)  # type: Tensor\n",
    "\n",
    "    # pred_top2.shape (batch_size, tgt_seq_length, 2)\n",
    "    _, pred_top2 = log_probs.topk(2, dim=-1)\n",
    "\n",
    "    # pred_top2.shape (tgt_seq_length, 2)\n",
    "    pred_top2 = pred_top2.squeeze(0)  # because batch_size=1 here\n",
    "\n",
    "    # unpack first 2 top predictions\n",
    "    first_pred, second_pred = pred_top2[:, 0].unsqueeze(1), pred_top2[:, 1].unsqueeze(1)\n",
    "\n",
    "    # in case first top prediction is UNK use second top prediction\n",
    "    unk_idx = tgt_lang.word_to_index[\"<UNK>\"]\n",
    "    indices = torch.where(first_pred == unk_idx, second_pred, first_pred)\n",
    "\n",
    "    indices = indices.squeeze().tolist()\n",
    "\n",
    "    sentence = tgt_lang.string(indices)\n",
    "\n",
    "    return sentence\n",
    "\n",
    "def translate(model: TranslatorModel, src: Tensor | str, src_lang: Language,\n",
    "              tgt_lang: Language, max_tgt_length: int, device: torch.device,\n",
    "              clean: bool = False) -> str:\n",
    "    model.eval()\n",
    "\n",
    "    if isinstance(src, str):\n",
    "        nlp = spacy.load(\"de_core_news_sm\")  # TODO: don't like this workaround\n",
    "        tokens = [token.text.lower() for token in nlp(src)]\n",
    "        tokens = [\"<BOS>\", *tokens, \"<EOS>\"]\n",
    "        src_idxs = np.array([src_lang.get_idx(word) for word in tokens])\n",
    "        src = torch.from_numpy(src_idxs).reshape(1, -1).to(device)  # (batch_size, src_seq_length)\n",
    "\n",
    "    enc_mask = model._create_enc_mask(src)  # noqa: SLF001\n",
    "\n",
    "    with torch.no_grad():\n",
    "        encoder_outputs = model.encoder(src, enc_mask)\n",
    "\n",
    "    tgt_indices = [tgt_lang.get_idx(\"<BOS>\")]\n",
    "\n",
    "    for _ in range(max_tgt_length):\n",
    "        tgt = torch.LongTensor(tgt_indices).unsqueeze(0).to(device)\n",
    "\n",
    "        dec_mask = model._create_dec_mask(tgt)  # noqa: SLF001\n",
    "\n",
    "        with torch.no_grad():\n",
    "            log_probs = model.decoder(tgt, encoder_outputs, enc_mask, dec_mask)  # type: Tensor\n",
    "\n",
    "        # pred_top2.shape (batch_size, tgt_seq_length, 2)\n",
    "        _, pred_top2 = log_probs.topk(2, dim=-1)\n",
    "\n",
    "        # pred_top2.shape (tgt_seq_length, 2)\n",
    "        pred_top2 = pred_top2.squeeze(0)  # because batch_size=1 here\n",
    "\n",
    "        # unpack first 2 top predictions\n",
    "        first_pred, second_pred = pred_top2[-1, 0].item(), pred_top2[-1, 1].item()\n",
    "\n",
    "        # in case first top prediction is UNK use second top prediction\n",
    "        unk_idx = tgt_lang.word_to_index[\"<UNK>\"]\n",
    "        pred_token = second_pred if first_pred == unk_idx else first_pred\n",
    "\n",
    "        tgt_indices.append(pred_token)\n",
    "\n",
    "        if pred_token == tgt_lang.get_idx(\"<EOS>\"):\n",
    "            break\n",
    "\n",
    "    sentence = tgt_lang.string(tgt_indices)\n",
    "\n",
    "    if clean:\n",
    "        sentence = sentence.split(\"<BOS> \")[1]\n",
    "        sentence = sentence.split(\" <EOS>\")[0]\n",
    "\n",
    "    return sentence\n",
    "\n",
    "def print_sentences(data: datasets.Dataset, idx: int, model: nn.Module,\n",
    "                    src_lang: Language, tgt_lang: Language, device: torch.device) -> None:\n",
    "    data_eval_src = data[idx][\"de_ids\"].to(device)\n",
    "    data_eval_tgt = data[idx][\"en_ids\"].to(device)\n",
    "    sentence_src = src_lang.string(data_eval_src)\n",
    "    sentence_tgt = tgt_lang.string(data_eval_tgt)\n",
    "    sentence_evaluated = translate_from_tensor(model, data_eval_src.unsqueeze(0), tgt_lang,\n",
    "                                               data_eval_tgt.unsqueeze(0))\n",
    "\n",
    "    print(f\"SOURCE: {sentence_src}\")\n",
    "    print(f\"TARGET: {sentence_tgt}\")\n",
    "    print(f\"MODEL: {sentence_evaluated}\")\n",
    "\n",
    "def evaluate_model(model: nn.Module,\n",
    "                   data_loader: torch.utils.data.DataLoader,\n",
    "                   loss_function: nn.NLLLoss,\n",
    "                   device: torch.device) -> float:\n",
    "    model.eval()\n",
    "\n",
    "    losses = []\n",
    "    with torch.no_grad():\n",
    "        for _, batch in enumerate(data_loader):\n",
    "            loss = run_batch(model=model, loss_function=loss_function, batch=batch, device=device)\n",
    "            losses.append(loss.item())\n",
    "\n",
    "    return sum(losses) / len(losses)"
   ]
  },
  {
   "cell_type": "code",
   "execution_count": 33,
   "metadata": {},
   "outputs": [
    {
     "data": {
      "text/plain": [
       "'<BOS> jackets jackets jackets jackets jackets jackets jackets jackets jackets jackets jackets jackets jackets'"
      ]
     },
     "execution_count": 33,
     "metadata": {},
     "output_type": "execute_result"
    }
   ],
   "source": [
    "translate(model=translator,\n",
    "          src=train_data[42][\"de_ids\"].reshape(1, -1).to(device),\n",
    "          src_lang=src_lang,\n",
    "          tgt_lang=tgt_lang,\n",
    "          max_tgt_length=13,\n",
    "          device=device)"
   ]
  },
  {
   "cell_type": "code",
   "execution_count": 179,
   "metadata": {},
   "outputs": [
    {
     "name": "stdout",
     "output_type": "stream",
     "text": [
      "SOURCE: <BOS> eine schöne braut geht auf einem gehweg mit ihrem neuen ehemann . <EOS>\n",
      "TARGET: <BOS> a beautiful bride walking on a sidewalk with her new husband . <EOS>\n",
      "MODEL: a middle bride is down the sidewalk with his son york . <EOS> .\n"
     ]
    }
   ],
   "source": [
    "# print untrained model translations\n",
    "print_sentences(data=train_data, idx=43, model=translator, src_lang=src_lang, tgt_lang=tgt_lang, device=device)"
   ]
  },
  {
   "cell_type": "code",
   "execution_count": null,
   "metadata": {},
   "outputs": [],
   "source": [
    "# training time on RTX 4090 1 min"
   ]
  },
  {
   "cell_type": "code",
   "execution_count": 76,
   "metadata": {},
   "outputs": [
    {
     "name": "stderr",
     "output_type": "stream",
     "text": [
      "100%|██████████| 227/227 [00:02<00:00, 75.79it/s]\n"
     ]
    },
    {
     "name": "stdout",
     "output_type": "stream",
     "text": [
      "Saving model state...\n",
      "Epoch: 1, elapsed: 3 sec, train loss: 4.5196, validation loss: 3.5590\n",
      "----------------------------------------------------------------------------------------------------\n"
     ]
    },
    {
     "name": "stderr",
     "output_type": "stream",
     "text": [
      "100%|██████████| 227/227 [00:02<00:00, 76.12it/s]\n"
     ]
    },
    {
     "name": "stdout",
     "output_type": "stream",
     "text": [
      "Saving model state...\n",
      "Epoch: 2, elapsed: 3 sec, train loss: 3.4538, validation loss: 3.1130\n",
      "----------------------------------------------------------------------------------------------------\n"
     ]
    },
    {
     "name": "stderr",
     "output_type": "stream",
     "text": [
      "100%|██████████| 227/227 [00:02<00:00, 76.33it/s]\n"
     ]
    },
    {
     "name": "stdout",
     "output_type": "stream",
     "text": [
      "Saving model state...\n",
      "Epoch: 3, elapsed: 3 sec, train loss: 3.0669, validation loss: 2.7754\n",
      "----------------------------------------------------------------------------------------------------\n"
     ]
    },
    {
     "name": "stderr",
     "output_type": "stream",
     "text": [
      "100%|██████████| 227/227 [00:02<00:00, 76.25it/s]\n"
     ]
    },
    {
     "name": "stdout",
     "output_type": "stream",
     "text": [
      "Saving model state...\n",
      "Epoch: 4, elapsed: 3 sec, train loss: 2.7446, validation loss: 2.4658\n",
      "----------------------------------------------------------------------------------------------------\n"
     ]
    },
    {
     "name": "stderr",
     "output_type": "stream",
     "text": [
      "100%|██████████| 227/227 [00:02<00:00, 76.23it/s]\n"
     ]
    },
    {
     "name": "stdout",
     "output_type": "stream",
     "text": [
      "Saving model state...\n",
      "Epoch: 5, elapsed: 3 sec, train loss: 2.4957, validation loss: 2.2505\n",
      "----------------------------------------------------------------------------------------------------\n"
     ]
    },
    {
     "name": "stderr",
     "output_type": "stream",
     "text": [
      "100%|██████████| 227/227 [00:02<00:00, 76.61it/s]\n"
     ]
    },
    {
     "name": "stdout",
     "output_type": "stream",
     "text": [
      "Saving model state...\n",
      "Epoch: 6, elapsed: 3 sec, train loss: 2.3066, validation loss: 2.1258\n",
      "----------------------------------------------------------------------------------------------------\n"
     ]
    },
    {
     "name": "stderr",
     "output_type": "stream",
     "text": [
      "100%|██████████| 227/227 [00:02<00:00, 76.89it/s]\n"
     ]
    },
    {
     "name": "stdout",
     "output_type": "stream",
     "text": [
      "Saving model state...\n",
      "Epoch: 7, elapsed: 3 sec, train loss: 2.1588, validation loss: 2.0305\n",
      "----------------------------------------------------------------------------------------------------\n"
     ]
    },
    {
     "name": "stderr",
     "output_type": "stream",
     "text": [
      "100%|██████████| 227/227 [00:02<00:00, 76.71it/s]\n"
     ]
    },
    {
     "name": "stdout",
     "output_type": "stream",
     "text": [
      "Saving model state...\n",
      "Epoch: 8, elapsed: 3 sec, train loss: 2.0454, validation loss: 1.9702\n",
      "----------------------------------------------------------------------------------------------------\n"
     ]
    },
    {
     "name": "stderr",
     "output_type": "stream",
     "text": [
      "100%|██████████| 227/227 [00:02<00:00, 78.20it/s]\n"
     ]
    },
    {
     "name": "stdout",
     "output_type": "stream",
     "text": [
      "Saving model state...\n",
      "Epoch: 9, elapsed: 3 sec, train loss: 1.9502, validation loss: 1.9108\n",
      "----------------------------------------------------------------------------------------------------\n"
     ]
    },
    {
     "name": "stderr",
     "output_type": "stream",
     "text": [
      "100%|██████████| 227/227 [00:03<00:00, 71.73it/s]\n"
     ]
    },
    {
     "name": "stdout",
     "output_type": "stream",
     "text": [
      "Saving model state...\n",
      "Epoch: 10, elapsed: 3 sec, train loss: 1.8698, validation loss: 1.8726\n",
      "SOURCE: <BOS> ein schwarzer hund jagt einen ball im gras . <EOS>\n",
      "TARGET: <BOS> a black dog chases a ball in the grass . <EOS>\n",
      "MODEL: a black dog chases a ball in the grass . <EOS> .\n",
      "----------------------------------------------------------------------------------------------------\n"
     ]
    },
    {
     "name": "stderr",
     "output_type": "stream",
     "text": [
      "100%|██████████| 227/227 [00:03<00:00, 71.75it/s]\n"
     ]
    },
    {
     "name": "stdout",
     "output_type": "stream",
     "text": [
      "Saving model state...\n",
      "Epoch: 11, elapsed: 3 sec, train loss: 1.8003, validation loss: 1.8378\n",
      "----------------------------------------------------------------------------------------------------\n"
     ]
    },
    {
     "name": "stderr",
     "output_type": "stream",
     "text": [
      "100%|██████████| 227/227 [00:03<00:00, 71.42it/s]\n"
     ]
    },
    {
     "name": "stdout",
     "output_type": "stream",
     "text": [
      "Saving model state...\n",
      "Epoch: 12, elapsed: 3 sec, train loss: 1.7407, validation loss: 1.8075\n",
      "----------------------------------------------------------------------------------------------------\n"
     ]
    },
    {
     "name": "stderr",
     "output_type": "stream",
     "text": [
      "100%|██████████| 227/227 [00:02<00:00, 76.52it/s]\n"
     ]
    },
    {
     "name": "stdout",
     "output_type": "stream",
     "text": [
      "Saving model state...\n",
      "Epoch: 13, elapsed: 3 sec, train loss: 1.6846, validation loss: 1.7723\n",
      "----------------------------------------------------------------------------------------------------\n"
     ]
    },
    {
     "name": "stderr",
     "output_type": "stream",
     "text": [
      "100%|██████████| 227/227 [00:02<00:00, 75.93it/s]\n"
     ]
    },
    {
     "name": "stdout",
     "output_type": "stream",
     "text": [
      "Epoch: 14, elapsed: 3 sec, train loss: 1.6359, validation loss: 1.7759\n",
      "----------------------------------------------------------------------------------------------------\n"
     ]
    },
    {
     "name": "stderr",
     "output_type": "stream",
     "text": [
      "100%|██████████| 227/227 [00:03<00:00, 70.72it/s]\n"
     ]
    },
    {
     "name": "stdout",
     "output_type": "stream",
     "text": [
      "Saving model state...\n",
      "Epoch: 15, elapsed: 3 sec, train loss: 1.5921, validation loss: 1.7494\n",
      "----------------------------------------------------------------------------------------------------\n"
     ]
    },
    {
     "name": "stderr",
     "output_type": "stream",
     "text": [
      "100%|██████████| 227/227 [00:03<00:00, 72.36it/s]\n"
     ]
    },
    {
     "name": "stdout",
     "output_type": "stream",
     "text": [
      "Saving model state...\n",
      "Epoch: 16, elapsed: 3 sec, train loss: 1.5494, validation loss: 1.7351\n",
      "----------------------------------------------------------------------------------------------------\n"
     ]
    },
    {
     "name": "stderr",
     "output_type": "stream",
     "text": [
      "100%|██████████| 227/227 [00:03<00:00, 71.98it/s]\n"
     ]
    },
    {
     "name": "stdout",
     "output_type": "stream",
     "text": [
      "Saving model state...\n",
      "Epoch: 17, elapsed: 3 sec, train loss: 1.5110, validation loss: 1.7142\n",
      "----------------------------------------------------------------------------------------------------\n"
     ]
    },
    {
     "name": "stderr",
     "output_type": "stream",
     "text": [
      "100%|██████████| 227/227 [00:03<00:00, 71.30it/s]\n"
     ]
    },
    {
     "name": "stdout",
     "output_type": "stream",
     "text": [
      "Epoch: 18, elapsed: 3 sec, train loss: 1.4786, validation loss: 1.7150\n",
      "----------------------------------------------------------------------------------------------------\n"
     ]
    },
    {
     "name": "stderr",
     "output_type": "stream",
     "text": [
      "100%|██████████| 227/227 [00:03<00:00, 71.57it/s]\n"
     ]
    },
    {
     "name": "stdout",
     "output_type": "stream",
     "text": [
      "Epoch: 19, elapsed: 3 sec, train loss: 1.4489, validation loss: 1.7243\n",
      "----------------------------------------------------------------------------------------------------\n"
     ]
    },
    {
     "name": "stderr",
     "output_type": "stream",
     "text": [
      "100%|██████████| 227/227 [00:03<00:00, 71.68it/s]\n"
     ]
    },
    {
     "name": "stdout",
     "output_type": "stream",
     "text": [
      "Saving model state...\n",
      "Epoch: 20, elapsed: 3 sec, train loss: 1.4159, validation loss: 1.7129\n",
      "SOURCE: <BOS> ein mann demonstriert die verwendung einer <UNK> . <EOS>\n",
      "TARGET: <BOS> a man is <UNK> using a spray paint can . <EOS>\n",
      "MODEL: a man is showing a a mac paint . . <EOS> .\n",
      "----------------------------------------------------------------------------------------------------\n"
     ]
    }
   ],
   "source": [
    "NUM_EPOCHS = 20\n",
    "\n",
    "translator.train()\n",
    "\n",
    "model_name = f\"translator_transformer_{num_layers}_layers\"\n",
    "best_val_loss = float(\"inf\")\n",
    "train_losses, valid_losses = [], []\n",
    "for epoch in range(NUM_EPOCHS):\n",
    "    time_start = time.time()\n",
    "    epoch_loss = train_one_epoch(translator, optimizer,\n",
    "                                 loss_function, train_data_loader, device)\n",
    "\n",
    "    time_passed_seconds = time.time() - time_start\n",
    "\n",
    "    train_losses.append(epoch_loss)\n",
    "\n",
    "    valid_loss = evaluate_model(model=translator, data_loader=valid_data_loader, loss_function=loss_function, device=device)\n",
    "    valid_losses.append(valid_loss)\n",
    "\n",
    "    if valid_loss < best_val_loss:\n",
    "        # save best validaiton loss model\n",
    "        best_val_loss = valid_loss\n",
    "        print(\"Saving model state...\")\n",
    "        torch.save(translator.state_dict(), f\"models/{model_name}_bestval.pt\")\n",
    "\n",
    "    # save model\n",
    "    torch.save(translator.state_dict(), f\"models/{model_name}.pt\")\n",
    "\n",
    "    print(f\"Epoch: {epoch + 1}, elapsed: {time_passed_seconds:.0f} sec, train loss: {epoch_loss:.4f}, validation loss: {valid_loss:.4f}\")\n",
    "\n",
    "    if (epoch + 1) % 10 == 0:\n",
    "        random_eval_idx = int(np.random.choice(list(range(NUM_EXAMPLES))))\n",
    "        print_sentences(data=train_data, idx=random_eval_idx, model=translator, src_lang=src_lang, tgt_lang=tgt_lang, device=device)\n",
    "\n",
    "    print(\"-\" * 100)"
   ]
  },
  {
   "cell_type": "code",
   "execution_count": 77,
   "metadata": {},
   "outputs": [
    {
     "data": {
      "text/plain": [
       "Text(0.5, 1.0, 'Average loss per epoch')"
      ]
     },
     "execution_count": 77,
     "metadata": {},
     "output_type": "execute_result"
    },
    {
     "data": {
      "image/png": "[encoded data removed]",
      "text/plain": [
       "<Figure size 640x480 with 1 Axes>"
      ]
     },
     "metadata": {},
     "output_type": "display_data"
    }
   ],
   "source": [
    "plt.plot(train_losses, color=\"blue\", label=\"Train\")\n",
    "plt.plot(valid_losses, color=\"red\", label=\"Validation\")\n",
    "plt.legend()\n",
    "plt.grid()\n",
    "plt.title(\"Average loss per epoch\")"
   ]
  },
  {
   "cell_type": "markdown",
   "metadata": {},
   "source": [
    "### Evaluate"
   ]
  },
  {
   "cell_type": "code",
   "execution_count": 34,
   "metadata": {},
   "outputs": [
    {
     "name": "stderr",
     "output_type": "stream",
     "text": [
      "/var/folders/4s/mv0mfx752sb76dmyd9_tr18w0000gn/T/ipykernel_46015/2036248109.py:1: FutureWarning: You are using `torch.load` with `weights_only=False` (the current default value), which uses the default pickle module implicitly. It is possible to construct malicious pickle data which will execute arbitrary code during unpickling (See https://github.com/pytorch/pytorch/blob/main/SECURITY.md#untrusted-models for more details). In a future release, the default value for `weights_only` will be flipped to `True`. This limits the functions that could be executed during unpickling. Arbitrary objects will no longer be allowed to be loaded via this mode unless they are explicitly allowlisted by the user via `torch.serialization.add_safe_globals`. We recommend you start setting `weights_only=True` for any use case where you don't have full control of the loaded file. Please open an issue on GitHub for any issues related to this experimental feature.\n",
      "  translator.load_state_dict(torch.load(f\"models/translator_transformer_{num_layers}_layers_bestval.pt\", map_location=device))\n"
     ]
    },
    {
     "data": {
      "text/plain": [
       "TranslatorModel(\n",
       "  (encoder): Encoder(\n",
       "    (token_embedding): Embedding(5374, 256)\n",
       "    (positional_embedding): Embedding(100, 256)\n",
       "    (dropout): Dropout(p=0.3, inplace=False)\n",
       "    (layers): ModuleList(\n",
       "      (0-2): 3 x EncoderLayer(\n",
       "        (norm_1): LayerNorm((256,), eps=1e-05, elementwise_affine=True)\n",
       "        (norm_2): LayerNorm((256,), eps=1e-05, elementwise_affine=True)\n",
       "        (dropout): Dropout(p=0.3, inplace=False)\n",
       "        (ff): PositionWiseFeedForward(\n",
       "          (fc_1): Linear(in_features=256, out_features=512, bias=True)\n",
       "          (fc_2): Linear(in_features=512, out_features=256, bias=True)\n",
       "          (dropout): Dropout(p=0.1, inplace=False)\n",
       "        )\n",
       "        (mha): MultiHeadAttention(\n",
       "          (fc_q): Linear(in_features=256, out_features=256, bias=True)\n",
       "          (fc_k): Linear(in_features=256, out_features=256, bias=True)\n",
       "          (fc_v): Linear(in_features=256, out_features=256, bias=True)\n",
       "          (out): Linear(in_features=256, out_features=256, bias=True)\n",
       "          (dropout): Dropout(p=0.3, inplace=False)\n",
       "        )\n",
       "      )\n",
       "    )\n",
       "  )\n",
       "  (decoder): Decoder(\n",
       "    (token_embedding): Embedding(4556, 256)\n",
       "    (positional_embedding): Embedding(100, 256)\n",
       "    (dropout): Dropout(p=0.3, inplace=False)\n",
       "    (fc): Linear(in_features=256, out_features=4556, bias=True)\n",
       "    (layers): ModuleList(\n",
       "      (0-2): 3 x DecoderLayer(\n",
       "        (norm_1): LayerNorm((256,), eps=1e-05, elementwise_affine=True)\n",
       "        (norm_2): LayerNorm((256,), eps=1e-05, elementwise_affine=True)\n",
       "        (norm_3): LayerNorm((256,), eps=1e-05, elementwise_affine=True)\n",
       "        (dropout): Dropout(p=0.3, inplace=False)\n",
       "        (ff): PositionWiseFeedForward(\n",
       "          (fc_1): Linear(in_features=256, out_features=512, bias=True)\n",
       "          (fc_2): Linear(in_features=512, out_features=256, bias=True)\n",
       "          (dropout): Dropout(p=0.1, inplace=False)\n",
       "        )\n",
       "        (self_attention): MultiHeadAttention(\n",
       "          (fc_q): Linear(in_features=256, out_features=256, bias=True)\n",
       "          (fc_k): Linear(in_features=256, out_features=256, bias=True)\n",
       "          (fc_v): Linear(in_features=256, out_features=256, bias=True)\n",
       "          (out): Linear(in_features=256, out_features=256, bias=True)\n",
       "          (dropout): Dropout(p=0.3, inplace=False)\n",
       "        )\n",
       "        (enc_attention): MultiHeadAttention(\n",
       "          (fc_q): Linear(in_features=256, out_features=256, bias=True)\n",
       "          (fc_k): Linear(in_features=256, out_features=256, bias=True)\n",
       "          (fc_v): Linear(in_features=256, out_features=256, bias=True)\n",
       "          (out): Linear(in_features=256, out_features=256, bias=True)\n",
       "          (dropout): Dropout(p=0.3, inplace=False)\n",
       "        )\n",
       "      )\n",
       "    )\n",
       "  )\n",
       ")"
      ]
     },
     "execution_count": 34,
     "metadata": {},
     "output_type": "execute_result"
    }
   ],
   "source": [
    "translator.load_state_dict(torch.load(f\"models/translator_transformer_{num_layers}_layers_bestval.pt\", map_location=device))\n",
    "translator.eval()"
   ]
  },
  {
   "cell_type": "code",
   "execution_count": 35,
   "metadata": {},
   "outputs": [
    {
     "name": "stdout",
     "output_type": "stream",
     "text": [
      "SOURCE: <BOS> drei personen gehen mitten am tag auf einem pfad . <EOS>\n",
      "TARGET: <BOS> three people walking on a trail in the middle of the day . <EOS>\n",
      "MODEL: three people walk on a path in the middle of a day . <EOS> .\n"
     ]
    }
   ],
   "source": [
    "random_eval_idx = int(np.random.choice(list(range(NUM_EXAMPLES))))\n",
    "print_sentences(data=train_data, idx=random_eval_idx, model=translator, src_lang=src_lang, tgt_lang=tgt_lang, device=device)"
   ]
  },
  {
   "cell_type": "code",
   "execution_count": 36,
   "metadata": {},
   "outputs": [
    {
     "name": "stdout",
     "output_type": "stream",
     "text": [
      "SOURCE: <BOS> ein mann geht an einem silbernen fahrzeug vorbei . <EOS>\n",
      "TARGET: <BOS> a man walks by a silver vehicle . <EOS>\n",
      "MODEL: a man walks past a silver vehicle . <EOS> .\n",
      "----------------------------------------------------------------------------------------------------\n",
      "SOURCE: <BOS> drei personen mit langen hosen sitzen im freien auf kleinen steinen hinter einem großen busch . <EOS>\n",
      "TARGET: <BOS> three people sitting outside on small rocks behind a big bush , wearing long pants . <EOS>\n",
      "MODEL: three people wearing outside on large stone behind a large bush wearing wearing long pants . <EOS> .\n",
      "----------------------------------------------------------------------------------------------------\n",
      "SOURCE: <BOS> eine <UNK> mit fünf mädchen , die nacheinander springen . <EOS>\n",
      "TARGET: <BOS> a ballet class of five girls jumping in <UNK> . <EOS>\n",
      "MODEL: a ballet dancer with five girls , in martial . <EOS> .\n",
      "----------------------------------------------------------------------------------------------------\n",
      "SOURCE: <BOS> ein schickes mädchen spricht mit dem handy während sie langsam die straße <UNK> . <EOS>\n",
      "TARGET: <BOS> a <UNK> girl talking on her cellphone while gliding slowly down the street . <EOS>\n",
      "MODEL: a fashionable girl talks on her cellphone while she slowly down the street . <EOS> .\n",
      "----------------------------------------------------------------------------------------------------\n",
      "SOURCE: <BOS> zwei männer mitten in einem kampf . <EOS>\n",
      "TARGET: <BOS> two men in the middle of the action of a fighting match . <EOS>\n",
      "MODEL: two men in the middle of a ring match a match match . <EOS> <EOS>\n",
      "----------------------------------------------------------------------------------------------------\n"
     ]
    }
   ],
   "source": [
    "idxs = [42, 422, 10, 7, 999]\n",
    "\n",
    "for idx in idxs:\n",
    "    print_sentences(data=train_data, idx=idx, model=translator, src_lang=src_lang, tgt_lang=tgt_lang, device=device)\n",
    "    print(\"-\" * 100)"
   ]
  },
  {
   "cell_type": "code",
   "execution_count": 233,
   "metadata": {},
   "outputs": [],
   "source": [
    "bleu = evaluate.load(\"bleu\")\n",
    "\n",
    "def get_tokenizer_fn(nlp: Language, lower: bool):\n",
    "    def tokenizer_fn(s):\n",
    "        tokens = [token.text for token in nlp.tokenizer(s)]\n",
    "        if lower:\n",
    "            tokens = [token.lower() for token in tokens]\n",
    "        return tokens\n",
    "\n",
    "    return tokenizer_fn\n",
    "\n",
    "tokenizer_fn = get_tokenizer_fn(en_nlp, lower)"
   ]
  },
  {
   "cell_type": "code",
   "execution_count": 81,
   "metadata": {},
   "outputs": [
    {
     "name": "stderr",
     "output_type": "stream",
     "text": [
      "100%|██████████| 1000/1000 [00:23<00:00, 42.44it/s]\n"
     ]
    },
    {
     "data": {
      "text/plain": [
       "{'bleu': 0.3579121631025168,\n",
       " 'precisions': [0.67200546531046,\n",
       "  0.4322326269098078,\n",
       "  0.2882584571326293,\n",
       "  0.19598977786514646],\n",
       " 'brevity_penalty': 1.0,\n",
       " 'length_ratio': 1.0088834431000153,\n",
       " 'translation_length': 13174,\n",
       " 'reference_length': 13058}"
      ]
     },
     "execution_count": 81,
     "metadata": {},
     "output_type": "execute_result"
    }
   ],
   "source": [
    "# compute BLEU metric on test data\n",
    "predictions, references = [], []\n",
    "for idx in tqdm(range(test_data.num_rows)):\n",
    "    data_eval_src = test_data[idx][\"de_ids\"].reshape(1, -1).to(device)\n",
    "    sentence_evaluated = translate(model=translator,\n",
    "                                   src=data_eval_src,\n",
    "                                   src_lang=src_lang,\n",
    "                                   tgt_lang=tgt_lang,\n",
    "                                   max_tgt_length=100,\n",
    "                                   device=device,\n",
    "                                   clean=True)\n",
    "\n",
    "\n",
    "    predictions.append(sentence_evaluated)\n",
    "    references.append(test_data[idx][\"en\"])\n",
    "\n",
    "bleu.compute(predictions=predictions, references=references, tokenizer=tokenizer_fn)"
   ]
  },
  {
   "cell_type": "code",
   "execution_count": null,
   "metadata": {},
   "outputs": [],
   "source": []
  }
 ],
 "metadata": {
  "kernelspec": {
   "display_name": "deeplearning",
   "language": "python",
   "name": "python3"
  },
  "language_info": {
   "codemirror_mode": {
    "name": "ipython",
    "version": 3
   },
   "file_extension": ".py",
   "mimetype": "text/x-python",
   "name": "python",
   "nbconvert_exporter": "python",
   "pygments_lexer": "ipython3",
   "version": "3.11.9"
  }
 },
 "nbformat": 4,
 "nbformat_minor": 2
}
