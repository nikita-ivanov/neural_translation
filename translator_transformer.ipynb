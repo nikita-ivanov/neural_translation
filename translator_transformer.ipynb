{
 "cells": [
  {
   "cell_type": "code",
   "execution_count": 1,
   "metadata": {},
   "outputs": [
    {
     "name": "stderr",
     "output_type": "stream",
     "text": [
      "/Users/nivanov/miniconda3/envs/dlmetal/lib/python3.11/site-packages/tqdm/auto.py:21: TqdmWarning: IProgress not found. Please update jupyter and ipywidgets. See https://ipywidgets.readthedocs.io/en/stable/user_install.html\n",
      "  from .autonotebook import tqdm as notebook_tqdm\n"
     ]
    }
   ],
   "source": [
    "import time\n",
    "from collections.abc import Callable, Generator\n",
    "\n",
    "import datasets\n",
    "import evaluate\n",
    "import matplotlib.pyplot as plt\n",
    "import numpy as np\n",
    "import torch\n",
    "import torch.nn.functional as F  # noqa: N812\n",
    "from tokenizers import Tokenizer, decoders, normalizers\n",
    "from tokenizers.models import WordPiece\n",
    "from tokenizers.normalizers import NFD, Lowercase\n",
    "from tokenizers.pre_tokenizers import Whitespace\n",
    "from tokenizers.processors import TemplateProcessing\n",
    "from tokenizers.trainers import WordPieceTrainer\n",
    "from torch import Tensor, nn\n",
    "from tqdm import tqdm\n"
   ]
  },
  {
   "cell_type": "markdown",
   "metadata": {},
   "source": [
    "In this notebook, we train a neural translation model based on transformer architecture.\n",
    "We use a bigger dataset than in the previous RNN notebook. The new dataset consists of around 200k training examples (German to English translation pairs). We will also use BERT tokenizer to build vocabulary instead of using our own language class."
   ]
  },
  {
   "cell_type": "markdown",
   "metadata": {},
   "source": [
    "### Data processing"
   ]
  },
  {
   "cell_type": "code",
   "execution_count": 2,
   "metadata": {},
   "outputs": [
    {
     "name": "stdout",
     "output_type": "stream",
     "text": [
      "mps\n"
     ]
    }
   ],
   "source": [
    "PARENT_DIR = \".\"\n",
    "\n",
    "if torch.cuda.is_available():\n",
    "    device = torch.device(\"cuda\")\n",
    "elif torch.backends.mps.is_available():\n",
    "    # for Apple chips\n",
    "    device = torch.device(\"mps\")\n",
    "else:\n",
    "    device = torch.device(\"cpu\")\n",
    "\n",
    "print(device)"
   ]
  },
  {
   "cell_type": "markdown",
   "metadata": {},
   "source": [
    "We load IWSLT dataset that contains pairs of German-English translations. Train data has around 200k rows which is suitable for the small model that we'll build."
   ]
  },
  {
   "cell_type": "code",
   "execution_count": 4,
   "metadata": {},
   "outputs": [],
   "source": [
    "dataset = datasets.load_dataset(\"IWSLT/iwslt2017\", \"iwslt2017-de-en\", trust_remote_code=True)"
   ]
  },
  {
   "cell_type": "code",
   "execution_count": 5,
   "metadata": {},
   "outputs": [],
   "source": [
    "train_data, valid_data, test_data = (\n",
    "    dataset[\"train\"],\n",
    "    dataset[\"validation\"],\n",
    "    dataset[\"test\"],\n",
    ")\n",
    "\n",
    "MAX_NUM_SAMPLES = None\n",
    "if MAX_NUM_SAMPLES is not None:\n",
    "    train_data = train_data.take(MAX_NUM_SAMPLES)"
   ]
  },
  {
   "cell_type": "code",
   "execution_count": 6,
   "metadata": {},
   "outputs": [
    {
     "data": {
      "text/plain": [
       "{'translation': {'de': 'Vielen Dank, Chris.',\n",
       "  'en': 'Thank you so much, Chris.'}}"
      ]
     },
     "execution_count": 6,
     "metadata": {},
     "output_type": "execute_result"
    }
   ],
   "source": [
    "train_data[0]"
   ]
  },
  {
   "cell_type": "markdown",
   "metadata": {},
   "source": [
    "We now fit our tokenizers to the language corpus. We create two tokenizers: one for German (`src_lang`) and one for English (`tgt_lang`). One could also create a single tokenizer and train it on both languages (multilingual). This approach is frequently used in practice but most likely requires bigger models than the one we will build below. Hence, we opt for two separate tokenizers.\n",
    "\n",
    "Code below will train new tokenizers and save them. Alternatively, you can just run last two lines to download pre-trained tokenizer."
   ]
  },
  {
   "cell_type": "code",
   "execution_count": 23,
   "metadata": {},
   "outputs": [
    {
     "name": "stdout",
     "output_type": "stream",
     "text": [
      "\n",
      "\n",
      "\n",
      "\n",
      "\n",
      "\n"
     ]
    }
   ],
   "source": [
    "def craete_tokenizer(max_vocab_size: int = 8000) -> tuple[Tokenizer, WordPieceTrainer]:\n",
    "    tokenizer = Tokenizer(WordPiece(unk_token=\"<UNK>\"))  # noqa: S106\n",
    "    tokenizer.normalizer = normalizers.Sequence([NFD(), Lowercase()])\n",
    "    tokenizer.pre_tokenizer = Whitespace()\n",
    "    tokenizer.post_processor = TemplateProcessing(\n",
    "        single=\"<BOS> $A <EOS>\",\n",
    "        special_tokens=[\n",
    "            (\"<BOS>\", 1),\n",
    "            (\"<EOS>\", 2),\n",
    "        ],\n",
    "    )\n",
    "    tokenizer.decoder = decoders.WordPiece()\n",
    "    trainer = WordPieceTrainer(vocab_size=max_vocab_size,\n",
    "                               special_tokens=[\"<UNK>\", \"<BOS>\", \"<EOS>\", \"<PAD>\"])\n",
    "\n",
    "    return tokenizer, trainer\n",
    "\n",
    "def batch_iterator(batch_size: int, data: datasets.Dataset, key: str) -> Generator[str]:\n",
    "    for i in range(0, len(data), batch_size):\n",
    "        data_batch = data[i : i + batch_size][\"translation\"]\n",
    "        data_key = [x[key] for x in data_batch]\n",
    "        yield data_key\n",
    "\n",
    "src_lang, src_lang_trainer = craete_tokenizer()\n",
    "tgt_lang, tgt_lang_trainer = craete_tokenizer()\n",
    "\n",
    "src_lang.train_from_iterator(batch_iterator(256, train_data, \"de\"), src_lang_trainer)\n",
    "tgt_lang.train_from_iterator(batch_iterator(256, train_data, \"en\"), tgt_lang_trainer)\n",
    "\n",
    "src_lang.save(f\"{PARENT_DIR}/de_tokenizer\")\n",
    "tgt_lang.save(f\"{PARENT_DIR}/en_tokenizer\")\n",
    "\n",
    "src_lang = Tokenizer.from_file(f\"{PARENT_DIR}/de_tokenizer\")\n",
    "tgt_lang = Tokenizer.from_file(f\"{PARENT_DIR}/en_tokenizer\")"
   ]
  },
  {
   "cell_type": "code",
   "execution_count": 10,
   "metadata": {},
   "outputs": [
    {
     "name": "stderr",
     "output_type": "stream",
     "text": [
      "Map: 100%|██████████| 206112/206112 [00:22<00:00, 9305.14 examples/s] \n",
      "Map: 100%|██████████| 888/888 [00:00<00:00, 8625.56 examples/s]\n",
      "Map: 100%|██████████| 8079/8079 [00:00<00:00, 9434.77 examples/s]\n"
     ]
    }
   ],
   "source": [
    "def tokenize_example(example: dict[str, str],\n",
    "                     en_tokenizer: Tokenizer,\n",
    "                     de_tokenizer: Tokenizer,\n",
    "                     max_length: int) -> dict[str, list[str | int]]:\n",
    "    en_encoded = en_tokenizer.encode(example[\"translation\"][\"en\"])\n",
    "    de_encoded = de_tokenizer.encode(example[\"translation\"][\"de\"])\n",
    "\n",
    "    return {\"en_tokens\": en_encoded.tokens[:max_length],\n",
    "            \"de_tokens\": de_encoded.tokens[:max_length],\n",
    "            \"en_ids\": en_encoded.ids[:max_length],\n",
    "            \"de_ids\": de_encoded.ids[:max_length]}\n",
    "\n",
    "max_length = 128\n",
    "sos_token = \"<BOS>\"  # noqa: S105\n",
    "eos_token = \"<EOS>\"  # noqa: S105\n",
    "\n",
    "fn_kwargs = {\n",
    "    \"en_tokenizer\": tgt_lang,\n",
    "    \"de_tokenizer\": src_lang,\n",
    "    \"max_length\": max_length,\n",
    "}\n",
    "\n",
    "train_data = train_data.map(tokenize_example, fn_kwargs=fn_kwargs)\n",
    "valid_data = valid_data.map(tokenize_example, fn_kwargs=fn_kwargs)\n",
    "test_data = test_data.map(tokenize_example, fn_kwargs=fn_kwargs)\n",
    "\n",
    "# train_data.save_to_disk(f\"{PARENT_DIR}/train_data_{max_length}\")\n",
    "# valid_data.save_to_disk(f\"{PARENT_DIR}/valid_data_{max_length}\")\n",
    "# test_data.save_to_disk(f\"{PARENT_DIR}/test_data_{max_length}\")\n",
    "\n",
    "# train_data = datasets.load_from_disk(f\"{PARENT_DIR}/train_data_{max_length}\")\n",
    "# valid_data = datasets.load_from_disk(f\"{PARENT_DIR}/valid_data_{max_length}\")\n",
    "# test_data = datasets.load_from_disk(f\"{PARENT_DIR}/test_data_{max_length}\")"
   ]
  },
  {
   "cell_type": "code",
   "execution_count": 9,
   "metadata": {},
   "outputs": [
    {
     "name": "stdout",
     "output_type": "stream",
     "text": [
      "Vocab size src: 8000\n",
      "Vocab size tgt: 8000\n"
     ]
    }
   ],
   "source": [
    "print(f\"Vocab size src: {src_lang.get_vocab_size()}\")\n",
    "print(f\"Vocab size tgt: {tgt_lang.get_vocab_size()}\")"
   ]
  },
  {
   "cell_type": "code",
   "execution_count": 10,
   "metadata": {},
   "outputs": [
    {
     "name": "stdout",
     "output_type": "stream",
     "text": [
      "ich bin wirklich begeistert von dieser konferenz, und ich danke ihnen allen für die vielen netten kommentare zu meiner rede vorgestern abend.\n",
      "i have been blown away by this conference, and i want to thank all of you for the many nice comments about what i had to say the other night.\n"
     ]
    }
   ],
   "source": [
    "print(src_lang.decode(train_data[2][\"de_ids\"]))\n",
    "print(tgt_lang.decode(train_data[2][\"en_ids\"]))"
   ]
  },
  {
   "cell_type": "code",
   "execution_count": 11,
   "metadata": {},
   "outputs": [],
   "source": [
    "data_type = \"torch\"\n",
    "format_columns = [\"en_ids\", \"de_ids\"]\n",
    "\n",
    "train_data = train_data.with_format(\n",
    "    type=data_type, columns=format_columns, output_all_columns=True,\n",
    "    )\n",
    "\n",
    "valid_data = valid_data.with_format(\n",
    "    type=data_type, columns=format_columns, output_all_columns=True,\n",
    ")\n",
    "\n",
    "test_data = test_data.with_format(\n",
    "    type=data_type, columns=format_columns, output_all_columns=True,\n",
    ")"
   ]
  },
  {
   "cell_type": "code",
   "execution_count": 12,
   "metadata": {},
   "outputs": [],
   "source": [
    "def get_collate_fn(pad_index: int) -> Callable[[dict], dict]:\n",
    "    def collate_fn(batch: dict) -> dict[str, int]:\n",
    "        batch_en_ids = [example[\"en_ids\"] for example in batch]\n",
    "        batch_de_ids = [example[\"de_ids\"] for example in batch]\n",
    "        batch_en_ids = nn.utils.rnn.pad_sequence(batch_en_ids, padding_value=pad_index)\n",
    "        batch_de_ids = nn.utils.rnn.pad_sequence(batch_de_ids, padding_value=pad_index)\n",
    "        return {\n",
    "            \"en_ids\": batch_en_ids,\n",
    "            \"de_ids\": batch_de_ids,\n",
    "        }\n",
    "\n",
    "    return collate_fn\n",
    "\n",
    "def get_data_loader(dataset: datasets.Dataset, batch_size: int, pad_index: int, *,\n",
    "                    shuffle: bool = True, pin_memory: bool = False) -> torch.utils.data.DataLoader:\n",
    "    collate_fn = get_collate_fn(pad_index)\n",
    "    return torch.utils.data.DataLoader(\n",
    "        dataset=dataset,\n",
    "        batch_size=batch_size,\n",
    "        collate_fn=collate_fn,\n",
    "        shuffle=shuffle,\n",
    "        pin_memory=pin_memory,\n",
    "    )\n",
    "\n",
    "batch_size = 64\n",
    "\n",
    "train_data_loader = get_data_loader(train_data, batch_size, tgt_lang.token_to_id(\"<PAD>\"))\n",
    "valid_data_loader = get_data_loader(valid_data, batch_size, tgt_lang.token_to_id(\"<PAD>\"))\n",
    "test_data_loader = get_data_loader(test_data, batch_size, tgt_lang.token_to_id(\"<PAD>\"))"
   ]
  },
  {
   "cell_type": "markdown",
   "metadata": {},
   "source": [
    "### Model"
   ]
  },
  {
   "cell_type": "markdown",
   "metadata": {},
   "source": [
    "We build a transformer model from scratch closely following the paper [Attention is all you need](https://proceedings.neurips.cc/paper/2017/file/3f5ee243547dee91fbd053c1c4a845aa-Paper.pdf). The main difference is that in the paper they used sine and cosine positional embeddings. In the implementation below we will learn positional embeddings instead (this is a standard approach nowadays).\n",
    "\n",
    "We start with `MultiHeadAttention` implementation which is the core of the transformer's architecture. We then add other layers to form `Encoder` and `Decoder` classes. Finally, we wrap everything up into the `TranslatorModel` class."
   ]
  },
  {
   "cell_type": "code",
   "execution_count": 13,
   "metadata": {},
   "outputs": [],
   "source": [
    "class MultiHeadAttention(nn.Module):\n",
    "    def __init__(self, hidden_dim: int, num_heads: int, dropout_ratio: float = 0.1):\n",
    "        if hidden_dim % num_heads != 0:\n",
    "            msg = \"hidden_dim must be divisible by num_heads\"\n",
    "            raise ValueError(msg)\n",
    "\n",
    "        super().__init__()\n",
    "        self.hidden_dim = hidden_dim\n",
    "        self.num_heads = num_heads\n",
    "        self.head_dim = hidden_dim // num_heads\n",
    "\n",
    "        self.fc_q = nn.Linear(hidden_dim, hidden_dim)\n",
    "        self.fc_k = nn.Linear(hidden_dim, hidden_dim)\n",
    "        self.fc_v = nn.Linear(hidden_dim, hidden_dim)\n",
    "\n",
    "        self.out = nn.Linear(hidden_dim, hidden_dim)\n",
    "        self.dropout = nn.Dropout(dropout_ratio)\n",
    "\n",
    "        self.scaling = 1 / (self.head_dim ** .5)\n",
    "\n",
    "    def forward(self, q: Tensor, k: Tensor, v: Tensor, mask: Tensor = None) -> Tensor:\n",
    "        \"\"\"\n",
    "        Inputs\n",
    "            q: query of size (batch_size, seq_length, hidden_dim)\n",
    "            k: query of size (batch_size, seq_length, hidden_dim)\n",
    "            v: query of size (batch_size, seq_length, hidden_dim)\n",
    "            mask: optional mask of size (batch_size, 1, 1, seq_length)\n",
    "                  or (batch_size, 1, seq_length, seq_length)\n",
    "        Outputs\n",
    "            attention weighted embedding vectors of size (batch_size, seq_length, hidden_dim)\n",
    "        \"\"\"\n",
    "        # all Q, K, V are of shape (batch_size, seq_length, hidden_dim)\n",
    "        Q = self.fc_q(q)\n",
    "        K = self.fc_k(k)\n",
    "        V = self.fc_v(v)\n",
    "\n",
    "        batch_size, seq_length, _ = Q.size()\n",
    "\n",
    "        # all Q, K, V are of shape (batch_size, num_heads, seq_length, head_dim)\n",
    "        Q = Q.view(batch_size, -1, self.num_heads, self.head_dim).permute(0, 2, 1, 3)\n",
    "        K = K.view(batch_size, -1, self.num_heads, self.head_dim).permute(0, 2, 1, 3)\n",
    "        V = V.view(batch_size, -1, self.num_heads, self.head_dim).permute(0, 2, 1, 3)\n",
    "\n",
    "        # energy.shape (batch_size, num_heads, seq_length, seq_length)\n",
    "        energy = torch.matmul(Q, K.permute(0, 1, 3, 2)) * self.scaling  # type: Tensor\n",
    "\n",
    "        if mask is not None:\n",
    "            energy = energy.masked_fill(mask == 0, -torch.inf)\n",
    "\n",
    "        # attention.shape (batch_size, num_heads, seq_length, seq_length)\n",
    "        attention = energy.softmax(dim=-1)\n",
    "        attention = self.dropout(attention)\n",
    "\n",
    "        # x.shape (batch_size, num_heads, seq_length, head_dim)\n",
    "        x = torch.matmul(attention, V)\n",
    "\n",
    "        # x.shape (batch_size, seq_length, num_heads, head_dim)\n",
    "        x = x.permute(0, 2, 1, 3)\n",
    "\n",
    "        # x.shape (batch_size, seq_length, hidden_dim)\n",
    "        x = x.reshape(batch_size, seq_length, self.hidden_dim)\n",
    "\n",
    "        # x.shape (batch_size, seq_length, hidden_dim)\n",
    "        x = self.out(x)\n",
    "\n",
    "        return x"
   ]
  },
  {
   "cell_type": "code",
   "execution_count": 14,
   "metadata": {},
   "outputs": [],
   "source": [
    "class PositionWiseFeedForward(nn.Module):\n",
    "    def __init__(self, hidden_dim: int, ff_dim: int, dropout_ratio: float = 0.1):\n",
    "        super().__init__()\n",
    "\n",
    "        self.fc_1 = nn.Linear(hidden_dim, ff_dim)\n",
    "        self.fc_2 = nn.Linear(ff_dim, hidden_dim)\n",
    "        self.dropout = nn.Dropout(dropout_ratio)\n",
    "\n",
    "    def forward(self, x) -> Tensor:\n",
    "        # x.shape (batch_size, seq_length, emb_dim)\n",
    "        x = self.fc_1(x)\n",
    "        x = F.relu(x)\n",
    "        x = self.dropout(x)\n",
    "        x = self.fc_2(x)\n",
    "        return x"
   ]
  },
  {
   "cell_type": "code",
   "execution_count": 15,
   "metadata": {},
   "outputs": [],
   "source": [
    "class EncoderLayer(nn.Module):\n",
    "    def __init__(self, hidden_dim: int, num_heads: int, ff_dim:int, dropout_ratio: float = 0.1):\n",
    "        super().__init__()\n",
    "\n",
    "        self.norm_1 = nn.LayerNorm(hidden_dim)\n",
    "        self.norm_2 = nn.LayerNorm(hidden_dim)\n",
    "        self.dropout = nn.Dropout(dropout_ratio)\n",
    "        self.ff = PositionWiseFeedForward(hidden_dim=hidden_dim, ff_dim=ff_dim)\n",
    "\n",
    "        self.mha = MultiHeadAttention(hidden_dim=hidden_dim,\n",
    "                                      num_heads=num_heads,\n",
    "                                      dropout_ratio=dropout_ratio)\n",
    "\n",
    "    def forward(self, src: Tensor, mask: Tensor | None = None) -> Tensor:\n",
    "        \"\"\"\n",
    "        Inputs\n",
    "            input of size (batch_size, seq_length, hidden_dim)\n",
    "            mask of size (batch_size, 1, 1, seq_length)\n",
    "        Outputs\n",
    "            (batch_size, seq_length, hidden_dim)\n",
    "        \"\"\"\n",
    "        # x1.shape (batch_size, seq_length, hidden_dim)\n",
    "        x1 = self.mha(src, src, src, mask=mask)  # type: Tensor\n",
    "        x1 = self.norm_1(self.dropout(x1) + src)\n",
    "\n",
    "        # x2.shape (batch_size, seq_length, hidden_dim)\n",
    "        x2 = self.ff(x1)\n",
    "        x2 = self.norm_2(x1 + self.dropout(x2))\n",
    "\n",
    "        return x2"
   ]
  },
  {
   "cell_type": "code",
   "execution_count": 16,
   "metadata": {},
   "outputs": [],
   "source": [
    "class Encoder(nn.Module):\n",
    "    def __init__(self, vocab_size: int, hidden_dim: int,\n",
    "                 num_heads: int, num_layers: int, ff_dim: int, max_seq_length: int,\n",
    "                 device: torch.device, dropout_ratio: float = 0.1):\n",
    "        super().__init__()\n",
    "\n",
    "        self.device = device\n",
    "        self.scaling = hidden_dim ** (0.5)\n",
    "\n",
    "        self.token_embedding = nn.Embedding(vocab_size, hidden_dim)\n",
    "        self.positional_embedding = nn.Embedding(max_seq_length, hidden_dim)\n",
    "        self.dropout = nn.Dropout(dropout_ratio)\n",
    "\n",
    "        self.layers = nn.ModuleList([EncoderLayer(hidden_dim=hidden_dim,\n",
    "                                                  num_heads=num_heads, ff_dim=ff_dim,\n",
    "                                                  dropout_ratio=dropout_ratio)\n",
    "                                     for _ in range(num_layers)])\n",
    "\n",
    "    def forward(self, src: Tensor, mask: Tensor | None = None) -> Tensor:\n",
    "        \"\"\"\n",
    "        Inputs\n",
    "            input of shape (batch_size, seq_legth)\n",
    "        Outputs\n",
    "            encoded sequence of shape (batch_size, seq_legth, hidden_dim)\n",
    "        \"\"\"\n",
    "        batch_size, seq_length = src.size()\n",
    "        positions = torch.arange(0, seq_length).unsqueeze(0).repeat(batch_size, 1).to(self.device)\n",
    "\n",
    "        # x.shape (batch_size, seq_legth, hidden_dim)\n",
    "        x = self.token_embedding(src) * self.scaling + self.positional_embedding(positions)\n",
    "        x = self.dropout(x)\n",
    "\n",
    "        for layer in self.layers:\n",
    "            # x.shape (batch_size, seq_legth, hidden_dim)\n",
    "            x = layer(x, mask)\n",
    "\n",
    "        return x"
   ]
  },
  {
   "cell_type": "code",
   "execution_count": 17,
   "metadata": {},
   "outputs": [],
   "source": [
    "class DecoderLayer(nn.Module):\n",
    "    def __init__(self, hidden_dim: int, num_heads: int,\n",
    "                 ff_dim:int, dropout_ratio: float = 0.1):\n",
    "        super().__init__()\n",
    "\n",
    "        self.norm_1 = nn.LayerNorm(hidden_dim)\n",
    "        self.norm_2 = nn.LayerNorm(hidden_dim)\n",
    "        self.norm_3 = nn.LayerNorm(hidden_dim)\n",
    "        self.dropout = nn.Dropout(dropout_ratio)\n",
    "        self.num_heads = num_heads\n",
    "        self.ff = PositionWiseFeedForward(hidden_dim=hidden_dim, ff_dim=ff_dim)\n",
    "\n",
    "        self.self_attention = MultiHeadAttention(hidden_dim=hidden_dim,\n",
    "                                                 num_heads=num_heads,\n",
    "                                                 dropout_ratio=dropout_ratio)\n",
    "\n",
    "        self.enc_attention = MultiHeadAttention(hidden_dim=hidden_dim,\n",
    "                                                num_heads=num_heads,\n",
    "                                                dropout_ratio=dropout_ratio)\n",
    "\n",
    "    def forward(self, dec_input: Tensor, enc_outputs: Tensor,\n",
    "                enc_mask: Tensor, dec_mask: Tensor) -> Tensor:\n",
    "        \"\"\"\n",
    "        Inputs\n",
    "            dec_input of shape (batch_size, seq_length, hidden_dim)\n",
    "            enc_input of shape (batch_size, seq_length, hidden_dim)\n",
    "            enc_mask of shape (batch_size, 1, 1, seq_length)\n",
    "            dec_mask of shape (batch_size, 1, seq_length, seq_length)\n",
    "        Outputs\n",
    "            (batch_size, seq_length, hidden_dim)\n",
    "        \"\"\"\n",
    "        # x1.shape (batch_size, seq_length, hidden_dim)\n",
    "        x1 = self.self_attention(dec_input, dec_input, dec_input, mask=dec_mask)\n",
    "\n",
    "        x1 = self.norm_1(dec_input + self.dropout(x1))\n",
    "\n",
    "        # x2.shape (batch_size, seq_length, hidden_dim)\n",
    "        x2 = self.enc_attention(x1, enc_outputs, enc_outputs, mask=enc_mask)\n",
    "\n",
    "        x2 = self.norm_2(x1 + self.dropout(x2))\n",
    "\n",
    "        x3 = self.ff(x2)\n",
    "\n",
    "        x3 = self.norm_3(x2 + self.dropout(x3))\n",
    "\n",
    "        return x2"
   ]
  },
  {
   "cell_type": "code",
   "execution_count": 18,
   "metadata": {},
   "outputs": [],
   "source": [
    "class Decoder(nn.Module):\n",
    "    def __init__(self, vocab_size: int, hidden_dim: int,\n",
    "                 num_heads: int, num_layers: int, ff_dim: int, max_seq_length: int,\n",
    "                 device: torch.device, dropout_ratio: float = 0.1):\n",
    "        super().__init__()\n",
    "\n",
    "        self.device = device\n",
    "        self.scaling = hidden_dim ** (0.5)\n",
    "\n",
    "        self.token_embedding = nn.Embedding(vocab_size, hidden_dim)\n",
    "        self.positional_embedding = nn.Embedding(max_seq_length, hidden_dim)\n",
    "        self.dropout = nn.Dropout(dropout_ratio)\n",
    "        self.fc = nn.Linear(hidden_dim, vocab_size)\n",
    "\n",
    "        self.layers = nn.ModuleList([DecoderLayer(hidden_dim=hidden_dim,\n",
    "                                                  num_heads=num_heads, ff_dim=ff_dim,\n",
    "                                                  dropout_ratio=dropout_ratio)\n",
    "                                     for _ in range(num_layers)])\n",
    "\n",
    "    def forward(self, dec_input: Tensor, enc_outputs: Tensor,\n",
    "                enc_mask: Tensor, dec_mask: Tensor) -> Tensor:\n",
    "        \"\"\"\n",
    "        Inputs\n",
    "            dec_inputs of shape (batch_size, seq_legth)\n",
    "            enc_outputs of shape (batch_size, seq_legth, hidden_dim)\n",
    "            dec_mask of shape (batch_size, 1, seq_length, seq_length)\n",
    "            enc_mask of shape (batch_size, 1, 1, seq_length)\n",
    "        Outputs\n",
    "            log-probabilities of shape (batch_size, seq_legth, hidden_dim)\n",
    "        \"\"\"\n",
    "        batch_size, seq_length = dec_input.size()\n",
    "        positions = torch.arange(0, seq_length).unsqueeze(0).repeat(batch_size, 1).to(self.device)\n",
    "\n",
    "        # x.shape (batch_size, seq_legth, hidden_dim)\n",
    "        x = self.token_embedding(dec_input) * self.scaling + self.positional_embedding(positions)\n",
    "        x = self.dropout(x)\n",
    "\n",
    "        for layer in self.layers:\n",
    "            # x.shape (batch_size, seq_legth, hidden_dim)\n",
    "            x = layer(x, enc_outputs, enc_mask, dec_mask)\n",
    "\n",
    "        # x.shape (batch_size, seq_length, vocab_size)\n",
    "        x = self.fc(x)\n",
    "        x = F.log_softmax(x, dim=-1)\n",
    "\n",
    "        return x"
   ]
  },
  {
   "cell_type": "code",
   "execution_count": 19,
   "metadata": {},
   "outputs": [],
   "source": [
    "class TranslatorModel(nn.Module):\n",
    "    def __init__(self, src_vocab_size: int, tgt_vocab_size: int,\n",
    "                 hidden_dim: int, ff_dim: int, num_heads: int, num_layers: int,\n",
    "                 enc_pad_token: int, dec_pad_token: int,\n",
    "                 max_seq_length: int, dropout_ratio: float, device: torch.device):\n",
    "        super().__init__()\n",
    "\n",
    "        self.encoder = Encoder(vocab_size=src_vocab_size,\n",
    "                               hidden_dim=hidden_dim,\n",
    "                               num_heads=num_heads,\n",
    "                               num_layers=num_layers,\n",
    "                               ff_dim=ff_dim,\n",
    "                               max_seq_length=max_seq_length,\n",
    "                               device=device,\n",
    "                               dropout_ratio=dropout_ratio)\n",
    "\n",
    "\n",
    "        self.decoder = Decoder(vocab_size=tgt_vocab_size,\n",
    "                                hidden_dim=hidden_dim,\n",
    "                                num_heads=num_heads,\n",
    "                                num_layers=num_layers,\n",
    "                                ff_dim=ff_dim,\n",
    "                                max_seq_length=max_seq_length,\n",
    "                                device=device,\n",
    "                                dropout_ratio=dropout_ratio)\n",
    "\n",
    "        self.enc_pad_token = enc_pad_token\n",
    "        self.dec_pad_token = dec_pad_token\n",
    "        self.device = device\n",
    "\n",
    "    def _create_enc_mask(self, enc_inputs: Tensor) -> Tensor:\n",
    "        \"\"\"\n",
    "        Inputs\n",
    "            enc_inputs of shape (batch_size, seq_length)\n",
    "        Outputs\n",
    "            mask with 0s for PAD tokens of shape (batch_size, 1, 1, seq_length)\n",
    "        \"\"\"\n",
    "        return (enc_inputs != self.enc_pad_token).unsqueeze(1).unsqueeze(2)\n",
    "\n",
    "    def _create_dec_mask(self, dec_inputs: Tensor) -> Tensor:\n",
    "        \"\"\"\n",
    "        Inputs\n",
    "            dec_inputs of shape (batch_size, seq_length)\n",
    "        Outputs\n",
    "            masks PAD tokens and future tokens; shape (batch_size, 1, seq_length, seq_length)\n",
    "        \"\"\"\n",
    "        # mask_1 shape (batch_size, 1, 1, seq_length)\n",
    "        mask_1 = (dec_inputs != self.dec_pad_token).unsqueeze(1).unsqueeze(2)\n",
    "\n",
    "        batch_size, seq_length = dec_inputs.size()\n",
    "\n",
    "        # mask_2 shape (seq_length, seq_length)\n",
    "        mask_2 = torch.tril(torch.ones((seq_length, seq_length), device= self.device)).bool()\n",
    "\n",
    "        # mask_2 shape (batch_size, 1, seq_length, seq_length)\n",
    "        mask_2 = mask_2.unsqueeze(0).unsqueeze(0).repeat(batch_size, 1, 1, 1)\n",
    "\n",
    "        mask = mask_1 & mask_2\n",
    "\n",
    "        return mask\n",
    "\n",
    "    def forward(self, src: Tensor, tgt: Tensor) -> Tensor:\n",
    "        \"\"\"\n",
    "        Inputs\n",
    "            src of shape (batch_size, src_seq_length)\n",
    "            tgt of shape (batch_size, tgt_seq_length)\n",
    "        Outputs\n",
    "            decoded sequence of shape (batch_size, seq_length, tgt_vocab_size)\n",
    "        \"\"\"\n",
    "        enc_mask = self._create_enc_mask(src)\n",
    "        dec_mask = self._create_dec_mask(tgt)\n",
    "\n",
    "        enc_outputs = self.encoder(src, enc_mask)\n",
    "        dec_outputs = self.decoder(tgt, enc_outputs, enc_mask, dec_mask)\n",
    "\n",
    "        return dec_outputs"
   ]
  },
  {
   "cell_type": "markdown",
   "metadata": {},
   "source": [
    "### Training"
   ]
  },
  {
   "cell_type": "markdown",
   "metadata": {},
   "source": [
    "We will train a much smaller model than presented in the paper or used in any serious real-world application. Our model will only have 10M parameters. This will allow us to train it in a reasonable amount of time on a single RTX4090 GPU. That means that we will not get perfect translation results, of course. However, we will see that the model does its best in trying to translate from German to English, which is not an easy task (there are easier language pairs).\n",
    "\n",
    "Following the paper, we make sure that we use Glorot (Xavier) initialization for the parameters, as this is an important step that enables much faster training (removing this initialization step can slow training significantly)."
   ]
  },
  {
   "cell_type": "code",
   "execution_count": 20,
   "metadata": {},
   "outputs": [
    {
     "name": "stdout",
     "output_type": "stream",
     "text": [
      "Model num parameters: 9,903,936\n"
     ]
    }
   ],
   "source": [
    "def init_weights(model: nn.Module) -> None:\n",
    "    if hasattr(model, \"weight\") and model.weight.dim() > 1:\n",
    "        nn.init.xavier_uniform_(model.weight.data)\n",
    "\n",
    "def count_parameters(model: nn.Module) -> int:\n",
    "    return sum(p.numel() for p in model.parameters() if p.requires_grad)\n",
    "\n",
    "loss_function = nn.NLLLoss(ignore_index=tgt_lang.token_to_id(\"<PAD>\"))\n",
    "\n",
    "dropout_ratio = 0.2\n",
    "hidden_dim = 256\n",
    "ff_dim = 1024\n",
    "num_heads = 4\n",
    "num_layers = 2\n",
    "\n",
    "translator = TranslatorModel(src_vocab_size=src_lang.get_vocab_size(),\n",
    "                             tgt_vocab_size=tgt_lang.get_vocab_size(),\n",
    "                             hidden_dim=hidden_dim,\n",
    "                             ff_dim=ff_dim,\n",
    "                             num_heads=num_heads,\n",
    "                             num_layers=num_layers,\n",
    "                             enc_pad_token=src_lang.token_to_id(\"<PAD>\"),\n",
    "                             dec_pad_token=tgt_lang.token_to_id(\"<PAD>\"),\n",
    "                             max_seq_length=max_length,\n",
    "                             dropout_ratio=dropout_ratio,\n",
    "                             device=device).to(device)\n",
    "\n",
    "translator.apply(init_weights)\n",
    "print(f\"Model num parameters: {count_parameters(translator):,}\")"
   ]
  },
  {
   "cell_type": "markdown",
   "metadata": {},
   "source": [
    "Our micro-model is only 40MB big."
   ]
  },
  {
   "cell_type": "code",
   "execution_count": 37,
   "metadata": {},
   "outputs": [
    {
     "name": "stdout",
     "output_type": "stream",
     "text": [
      "Model size: 39.62 MB\n"
     ]
    }
   ],
   "source": [
    "size_model = 0\n",
    "for param in translator.parameters():\n",
    "    if param.data.is_floating_point():\n",
    "        size_model += param.numel() * torch.finfo(param.data.dtype).bits\n",
    "    else:\n",
    "        size_model += param.numel() * torch.iinfo(param.data.dtype).bits\n",
    "print(f\"Model size: {size_model / 8e6:.2f} MB\")"
   ]
  },
  {
   "cell_type": "code",
   "execution_count": 21,
   "metadata": {},
   "outputs": [],
   "source": [
    "def run_batch(model: nn.Module,\n",
    "              loss_function: nn.NLLLoss,\n",
    "              batch: dict[str, Tensor],\n",
    "              device: torch.device) -> float:\n",
    "    # src.shape (batch_size, seq_length)\n",
    "    src = batch[\"de_ids\"].to(device).transpose(1, 0)  # type: Tensor\n",
    "    tgt = batch[\"en_ids\"].to(device).transpose(1, 0)  # type: Tensor\n",
    "\n",
    "    log_probs = model(src, tgt[:, :-1])  # type: Tensor\n",
    "    log_probs = log_probs.reshape(-1, log_probs.size(-1))\n",
    "\n",
    "    loss = loss_function(log_probs, tgt[:, 1:].reshape(-1).long())  # type: Tensor\n",
    "\n",
    "    return loss\n",
    "\n",
    "def train_one_epoch(model: nn.Module,\n",
    "                    optimizer: torch.optim.Optimizer,\n",
    "                    loss_function: nn.NLLLoss,\n",
    "                    data_loader: torch.utils.data.DataLoader,\n",
    "                    device: torch.device,\n",
    "                    scheduler: torch.optim.lr_scheduler.LambdaLR = None) -> float:\n",
    "    model.train()\n",
    "\n",
    "    losses = []\n",
    "    progress_bar = tqdm(data_loader)\n",
    "    for i, batch in enumerate(progress_bar):\n",
    "        optimizer.zero_grad()\n",
    "\n",
    "        loss = run_batch(model=model, loss_function=loss_function, batch=batch, device=device)\n",
    "        losses.append(loss.item())\n",
    "\n",
    "        loss.backward()\n",
    "\n",
    "        nn.utils.clip_grad_norm_(translator.parameters(), 1.0)\n",
    "\n",
    "        optimizer.step()\n",
    "\n",
    "        if scheduler is not None:\n",
    "            scheduler.step()\n",
    "\n",
    "        if i % 100 == 0:\n",
    "            running_loss = sum(losses) / len(losses)\n",
    "            progress_bar.set_description(f\"lr: {scheduler.get_last_lr()[0]:.4f} Running loss after {i} batches: {running_loss:.2f}\")\n",
    "\n",
    "    # return sum(losses) / len(losses)\n",
    "    return losses\n",
    "\n",
    "def translate_from_tensor(model: nn.Module, src: Tensor,\n",
    "                          tgt_lang: Tokenizer, tgt: Tensor) -> str:\n",
    "    # outputs.shape (batch_size, tgt_seq_length, tgt_vocab_size)\n",
    "    log_probs = model(src, tgt=tgt)  # type: Tensor\n",
    "\n",
    "    # pred_top2.shape (batch_size, tgt_seq_length, 2)\n",
    "    _, pred_top2 = log_probs.topk(2, dim=-1)\n",
    "\n",
    "    # pred_top2.shape (tgt_seq_length, 2)\n",
    "    pred_top2 = pred_top2.squeeze(0)  # because batch_size=1 here\n",
    "\n",
    "    # unpack first 2 top predictions\n",
    "    first_pred, second_pred = pred_top2[:, 0].unsqueeze(1), pred_top2[:, 1].unsqueeze(1)\n",
    "\n",
    "    # in case first top prediction is UNK use second top prediction\n",
    "    unk_idx = tgt_lang.token_to_id(\"<UNK>\")\n",
    "    indices = torch.where(first_pred == unk_idx, second_pred, first_pred)\n",
    "\n",
    "    indices = indices.squeeze().tolist()\n",
    "\n",
    "    sentence = tgt_lang.decode(indices, skip_special_tokens=False)\n",
    "\n",
    "    return sentence\n",
    "\n",
    "def translate(model: TranslatorModel, src: Tensor | str, src_lang: Tokenizer,\n",
    "              tgt_lang: Tokenizer, max_tgt_length: int, device: torch.device,\n",
    "              clean: bool = False) -> str:\n",
    "    model.eval()\n",
    "\n",
    "    if isinstance(src, str):\n",
    "        src_idxs = np.array(src_lang.encode(src).ids)\n",
    "        src = torch.from_numpy(src_idxs).reshape(1, -1).to(device)  # (batch_size, src_seq_length)\n",
    "\n",
    "    enc_mask = model._create_enc_mask(src)  # noqa: SLF001\n",
    "\n",
    "    with torch.no_grad():\n",
    "        encoder_outputs = model.encoder(src, enc_mask)\n",
    "\n",
    "    tgt_indices = [tgt_lang.token_to_id(\"<BOS>\")]\n",
    "\n",
    "    for _ in range(max_tgt_length):\n",
    "        tgt = torch.LongTensor(tgt_indices).unsqueeze(0).to(device)\n",
    "\n",
    "        dec_mask = model._create_dec_mask(tgt)  # noqa: SLF001\n",
    "\n",
    "        with torch.no_grad():\n",
    "            log_probs = model.decoder(tgt, encoder_outputs, enc_mask, dec_mask)  # type: Tensor\n",
    "\n",
    "        # pred_top2.shape (batch_size, tgt_seq_length, 2)\n",
    "        _, pred_top2 = log_probs.topk(2, dim=-1)\n",
    "\n",
    "        # pred_top2.shape (tgt_seq_length, 2)\n",
    "        pred_top2 = pred_top2.squeeze(0)  # because batch_size=1 here\n",
    "\n",
    "        # unpack first 2 top predictions\n",
    "        first_pred, second_pred = pred_top2[-1, 0].item(), pred_top2[-1, 1].item()\n",
    "\n",
    "        # in case first top prediction is UNK use second top prediction\n",
    "        unk_idx = tgt_lang.token_to_id(\"<UNK>\")\n",
    "        pred_token = second_pred if first_pred == unk_idx else first_pred\n",
    "\n",
    "        tgt_indices.append(pred_token)\n",
    "\n",
    "        if pred_token == tgt_lang.token_to_id(\"<EOS>\"):\n",
    "            break\n",
    "\n",
    "    sentence = tgt_lang.decode(tgt_indices, skip_special_tokens=clean)\n",
    "\n",
    "    return sentence\n",
    "\n",
    "def print_sentences(data: datasets.Dataset, idx: int, model: nn.Module,\n",
    "                    src_lang: Tokenizer, tgt_lang: Tokenizer, device: torch.device) -> None:\n",
    "    data_eval_src = data[idx][\"de_ids\"].to(device)\n",
    "    data_eval_tgt = data[idx][\"en_ids\"].to(device)\n",
    "    sentence_src = src_lang.decode(data_eval_src.detach().cpu().numpy().squeeze())\n",
    "    sentence_tgt = tgt_lang.decode(data_eval_tgt.detach().cpu().numpy().squeeze())\n",
    "    sentence_evaluated = translate_from_tensor(model, data_eval_src.unsqueeze(0), tgt_lang,\n",
    "                                               data_eval_tgt.unsqueeze(0))\n",
    "\n",
    "    print(f\"SOURCE: {sentence_src}\")\n",
    "    print(f\"TARGET: {sentence_tgt}\")\n",
    "    print(f\"MODEL: {sentence_evaluated}\")\n",
    "\n",
    "def evaluate_model(model: nn.Module,\n",
    "                   data_loader: torch.utils.data.DataLoader,\n",
    "                   loss_function: nn.NLLLoss,\n",
    "                   device: torch.device) -> float:\n",
    "    model.eval()\n",
    "\n",
    "    losses = []\n",
    "    with torch.no_grad():\n",
    "        for _, batch in enumerate(data_loader):\n",
    "            loss = run_batch(model=model, loss_function=loss_function, batch=batch, device=device)\n",
    "            losses.append(loss.item())\n",
    "\n",
    "    return sum(losses) / len(losses)"
   ]
  },
  {
   "cell_type": "code",
   "execution_count": 22,
   "metadata": {},
   "outputs": [
    {
     "data": {
      "text/plain": [
       "'<BOS> internet reprodu reprodu reprodu reprodu reprodu society reprodu society reprodu society reprodu society reprodu reprodu reprodu society reprodu society reprodu society reprodu reprodu society reprodu reprodu society reprodu society reprodu reprodu society reprodu society reprodu society redu society reprodu reprodu reprodu society reprodu society reprodu tower society reprodu redu curren report brokeilt slide internet reprodu society redu society redu society redu society reprodu redu society redu society reprodu reprodu society redu society redu society reprodu bill decided internet reprodu tower society reprodu reprodu bill decided internet reprodu redu society redu society reprodu senior decided internet reprodumon curren report'"
      ]
     },
     "execution_count": 22,
     "metadata": {},
     "output_type": "execute_result"
    }
   ],
   "source": [
    "translate(model=translator,\n",
    "          src=train_data[45][\"de_ids\"].reshape(1, -1).to(device),\n",
    "          src_lang=src_lang,\n",
    "          tgt_lang=tgt_lang,\n",
    "          max_tgt_length=100,\n",
    "          device=device)"
   ]
  },
  {
   "cell_type": "code",
   "execution_count": null,
   "metadata": {},
   "outputs": [],
   "source": [
    "# print untrained model translations\n",
    "print_sentences(data=train_data, idx=45, model=translator, src_lang=src_lang, tgt_lang=tgt_lang, device=device)"
   ]
  },
  {
   "attachments": {
    "image-2.png": {
     "image/png": "[encoded data removed]"
    }
   },
   "cell_type": "markdown",
   "metadata": {},
   "source": [
    "We use Adam optimizer with the same parametrization is in the paper. I found that cyclic scheduler works very well for such a model. Here is how a learning rate changes along the training\n",
    "![image-2.png](attachment:image-2.png)"
   ]
  },
  {
   "cell_type": "markdown",
   "metadata": {},
   "source": [
    "Training the model on RTX4090 took around 1 hour."
   ]
  },
  {
   "cell_type": "code",
   "execution_count": 53,
   "metadata": {},
   "outputs": [
    {
     "name": "stderr",
     "output_type": "stream",
     "text": [
      "lr: 0.0008 Running loss after 3200 batches: 4.48: 100%|██████████| 3221/3221 [00:39<00:00, 82.07it/s]\n"
     ]
    },
    {
     "name": "stdout",
     "output_type": "stream",
     "text": [
      "Saving model state...\n",
      "Epoch: 1, elapsed: 39 sec, train loss: 4.4749, validation loss: 3.4607\n",
      "----------------------------------------------------------------------------------------------------\n"
     ]
    },
    {
     "name": "stderr",
     "output_type": "stream",
     "text": [
      "lr: 0.0015 Running loss after 3200 batches: 3.32: 100%|██████████| 3221/3221 [00:39<00:00, 82.01it/s]\n"
     ]
    },
    {
     "name": "stdout",
     "output_type": "stream",
     "text": [
      "Saving model state...\n",
      "Epoch: 2, elapsed: 39 sec, train loss: 3.3171, validation loss: 3.0374\n",
      "----------------------------------------------------------------------------------------------------\n"
     ]
    },
    {
     "name": "stderr",
     "output_type": "stream",
     "text": [
      "lr: 0.0008 Running loss after 3200 batches: 2.95: 100%|██████████| 3221/3221 [00:39<00:00, 82.16it/s]\n"
     ]
    },
    {
     "name": "stdout",
     "output_type": "stream",
     "text": [
      "Saving model state...\n",
      "Epoch: 3, elapsed: 39 sec, train loss: 2.9496, validation loss: 2.5940\n",
      "----------------------------------------------------------------------------------------------------\n"
     ]
    },
    {
     "name": "stderr",
     "output_type": "stream",
     "text": [
      "lr: 0.0001 Running loss after 3200 batches: 2.56: 100%|██████████| 3221/3221 [00:38<00:00, 82.77it/s]\n"
     ]
    },
    {
     "name": "stdout",
     "output_type": "stream",
     "text": [
      "Saving model state...\n",
      "Epoch: 4, elapsed: 39 sec, train loss: 2.5632, validation loss: 2.3403\n",
      "----------------------------------------------------------------------------------------------------\n"
     ]
    },
    {
     "name": "stderr",
     "output_type": "stream",
     "text": [
      "lr: 0.0004 Running loss after 3200 batches: 2.40: 100%|██████████| 3221/3221 [00:38<00:00, 83.11it/s]\n"
     ]
    },
    {
     "name": "stdout",
     "output_type": "stream",
     "text": [
      "Epoch: 5, elapsed: 39 sec, train loss: 2.3971, validation loss: 2.3523\n",
      "----------------------------------------------------------------------------------------------------\n"
     ]
    },
    {
     "name": "stderr",
     "output_type": "stream",
     "text": [
      "lr: 0.0008 Running loss after 3200 batches: 2.47: 100%|██████████| 3221/3221 [00:39<00:00, 80.78it/s]\n"
     ]
    },
    {
     "name": "stdout",
     "output_type": "stream",
     "text": [
      "Epoch: 6, elapsed: 40 sec, train loss: 2.4747, validation loss: 2.3948\n",
      "----------------------------------------------------------------------------------------------------\n"
     ]
    },
    {
     "name": "stderr",
     "output_type": "stream",
     "text": [
      "lr: 0.0005 Running loss after 3200 batches: 2.45: 100%|██████████| 3221/3221 [00:39<00:00, 82.16it/s]\n"
     ]
    },
    {
     "name": "stdout",
     "output_type": "stream",
     "text": [
      "Saving model state...\n",
      "Epoch: 7, elapsed: 39 sec, train loss: 2.4548, validation loss: 2.2604\n",
      "----------------------------------------------------------------------------------------------------\n"
     ]
    },
    {
     "name": "stderr",
     "output_type": "stream",
     "text": [
      "lr: 0.0001 Running loss after 3200 batches: 2.28: 100%|██████████| 3221/3221 [00:39<00:00, 80.83it/s]\n"
     ]
    },
    {
     "name": "stdout",
     "output_type": "stream",
     "text": [
      "Saving model state...\n",
      "Epoch: 8, elapsed: 40 sec, train loss: 2.2825, validation loss: 2.1519\n",
      "----------------------------------------------------------------------------------------------------\n"
     ]
    },
    {
     "name": "stderr",
     "output_type": "stream",
     "text": [
      "lr: 0.0003 Running loss after 3200 batches: 2.19: 100%|██████████| 3221/3221 [00:38<00:00, 82.95it/s]\n"
     ]
    },
    {
     "name": "stdout",
     "output_type": "stream",
     "text": [
      "Epoch: 9, elapsed: 39 sec, train loss: 2.1950, validation loss: 2.1686\n",
      "----------------------------------------------------------------------------------------------------\n"
     ]
    },
    {
     "name": "stderr",
     "output_type": "stream",
     "text": [
      "lr: 0.0004 Running loss after 3200 batches: 2.24: 100%|██████████| 3221/3221 [00:39<00:00, 82.29it/s]\n"
     ]
    },
    {
     "name": "stdout",
     "output_type": "stream",
     "text": [
      "Epoch: 10, elapsed: 39 sec, train loss: 2.2414, validation loss: 2.1854\n",
      "SOURCE: die menschen trauen sich nicht mehr, nach ihrem eigenen urteil zu handeln.\n",
      "TARGET: people no longer feel free to act on their best judgment.\n",
      "MODEL: people don longer dar like to act on their own part. <EOS>.\n",
      "----------------------------------------------------------------------------------------------------\n"
     ]
    },
    {
     "name": "stderr",
     "output_type": "stream",
     "text": [
      "lr: 0.0003 Running loss after 3200 batches: 2.24: 100%|██████████| 3221/3221 [00:39<00:00, 81.74it/s]\n"
     ]
    },
    {
     "name": "stdout",
     "output_type": "stream",
     "text": [
      "Saving model state...\n",
      "Epoch: 11, elapsed: 39 sec, train loss: 2.2398, validation loss: 2.1454\n",
      "----------------------------------------------------------------------------------------------------\n"
     ]
    },
    {
     "name": "stderr",
     "output_type": "stream",
     "text": [
      "lr: 0.0001 Running loss after 3200 batches: 2.15: 100%|██████████| 3221/3221 [00:39<00:00, 82.09it/s]\n"
     ]
    },
    {
     "name": "stdout",
     "output_type": "stream",
     "text": [
      "Saving model state...\n",
      "Epoch: 12, elapsed: 39 sec, train loss: 2.1515, validation loss: 2.0820\n",
      "----------------------------------------------------------------------------------------------------\n"
     ]
    },
    {
     "name": "stderr",
     "output_type": "stream",
     "text": [
      "lr: 0.0002 Running loss after 3200 batches: 2.10: 100%|██████████| 3221/3221 [00:38<00:00, 84.58it/s]\n"
     ]
    },
    {
     "name": "stdout",
     "output_type": "stream",
     "text": [
      "Epoch: 13, elapsed: 38 sec, train loss: 2.1036, validation loss: 2.0977\n",
      "----------------------------------------------------------------------------------------------------\n"
     ]
    },
    {
     "name": "stderr",
     "output_type": "stream",
     "text": [
      "lr: 0.0003 Running loss after 3200 batches: 2.13: 100%|██████████| 3221/3221 [00:38<00:00, 82.91it/s]\n"
     ]
    },
    {
     "name": "stdout",
     "output_type": "stream",
     "text": [
      "Epoch: 14, elapsed: 39 sec, train loss: 2.1278, validation loss: 2.1046\n",
      "----------------------------------------------------------------------------------------------------\n"
     ]
    },
    {
     "name": "stderr",
     "output_type": "stream",
     "text": [
      "lr: 0.0002 Running loss after 3200 batches: 2.13: 100%|██████████| 3221/3221 [00:38<00:00, 82.79it/s]\n"
     ]
    },
    {
     "name": "stdout",
     "output_type": "stream",
     "text": [
      "Saving model state...\n",
      "Epoch: 15, elapsed: 39 sec, train loss: 2.1281, validation loss: 2.0745\n",
      "----------------------------------------------------------------------------------------------------\n"
     ]
    },
    {
     "name": "stderr",
     "output_type": "stream",
     "text": [
      "lr: 0.0001 Running loss after 3200 batches: 2.08: 100%|██████████| 3221/3221 [00:39<00:00, 82.18it/s]\n"
     ]
    },
    {
     "name": "stdout",
     "output_type": "stream",
     "text": [
      "Saving model state...\n",
      "Epoch: 16, elapsed: 39 sec, train loss: 2.0809, validation loss: 2.0469\n",
      "----------------------------------------------------------------------------------------------------\n"
     ]
    },
    {
     "name": "stderr",
     "output_type": "stream",
     "text": [
      "lr: 0.0001 Running loss after 3200 batches: 2.05: 100%|██████████| 3221/3221 [00:39<00:00, 82.33it/s]\n"
     ]
    },
    {
     "name": "stdout",
     "output_type": "stream",
     "text": [
      "Saving model state...\n",
      "Epoch: 17, elapsed: 39 sec, train loss: 2.0545, validation loss: 2.0445\n",
      "----------------------------------------------------------------------------------------------------\n"
     ]
    },
    {
     "name": "stderr",
     "output_type": "stream",
     "text": [
      "lr: 0.0002 Running loss after 3200 batches: 2.07: 100%|██████████| 3221/3221 [00:38<00:00, 83.36it/s]\n"
     ]
    },
    {
     "name": "stdout",
     "output_type": "stream",
     "text": [
      "Epoch: 18, elapsed: 39 sec, train loss: 2.0659, validation loss: 2.0588\n",
      "----------------------------------------------------------------------------------------------------\n"
     ]
    },
    {
     "name": "stderr",
     "output_type": "stream",
     "text": [
      "lr: 0.0001 Running loss after 3200 batches: 2.07: 100%|██████████| 3221/3221 [00:39<00:00, 82.34it/s]\n"
     ]
    },
    {
     "name": "stdout",
     "output_type": "stream",
     "text": [
      "Saving model state...\n",
      "Epoch: 19, elapsed: 39 sec, train loss: 2.0656, validation loss: 2.0404\n",
      "----------------------------------------------------------------------------------------------------\n"
     ]
    },
    {
     "name": "stderr",
     "output_type": "stream",
     "text": [
      "lr: 0.0001 Running loss after 3200 batches: 2.04: 100%|██████████| 3221/3221 [00:39<00:00, 82.41it/s]\n"
     ]
    },
    {
     "name": "stdout",
     "output_type": "stream",
     "text": [
      "Saving model state...\n",
      "Epoch: 20, elapsed: 39 sec, train loss: 2.0403, validation loss: 2.0274\n",
      "SOURCE: und die mellon bank ist ein mieter.\n",
      "TARGET: and mellon bank ' s a tenant.\n",
      "MODEL: and mellon bank is s a renure. <EOS> ren\n",
      "----------------------------------------------------------------------------------------------------\n"
     ]
    }
   ],
   "source": [
    "NUM_EPOCHS = 20\n",
    "\n",
    "optimizer = torch.optim.Adam(translator.parameters(), lr=0.001, betas=(0.9, 0.98), eps=10e-9)\n",
    "\n",
    "total_num_steps = NUM_EPOCHS * int(len(train_data) / batch_size)\n",
    "\n",
    "scheduler = torch.optim.lr_scheduler.CyclicLR(optimizer, 0.0001, 0.002, int(total_num_steps * 0.2),\n",
    "                                              mode=\"exp_range\", gamma=0.9997, cycle_momentum=False)\n",
    "\n",
    "translator.train()\n",
    "\n",
    "model_name = f\"translator_transformer_v4_{num_layers}_layers\"\n",
    "best_val_loss = float(\"inf\")\n",
    "train_losses, valid_losses, all_losses = [], [], []\n",
    "for epoch in range(NUM_EPOCHS):\n",
    "    time_start = time.time()\n",
    "    epoch_losses = train_one_epoch(translator, optimizer,\n",
    "                                 loss_function, train_data_loader, device,\n",
    "                                 scheduler=scheduler)\n",
    "\n",
    "    epoch_loss = sum(epoch_losses) / len(epoch_losses)\n",
    "\n",
    "    time_passed_seconds = time.time() - time_start\n",
    "\n",
    "    train_losses.append(epoch_loss)\n",
    "    all_losses += epoch_losses\n",
    "\n",
    "    valid_loss = evaluate_model(model=translator, data_loader=valid_data_loader, loss_function=loss_function, device=device)\n",
    "    valid_losses.append(valid_loss)\n",
    "\n",
    "    if valid_loss < best_val_loss:\n",
    "        # save best validaiton loss model\n",
    "        best_val_loss = valid_loss\n",
    "        print(\"Saving model state...\")\n",
    "        torch.save(translator.state_dict(), f\"{PARENT_DIR}/models/{model_name}_bestval.pt\")\n",
    "\n",
    "    # save model\n",
    "    torch.save(translator.state_dict(), f\"{PARENT_DIR}/models/{model_name}.pt\")\n",
    "\n",
    "    print(f\"Epoch: {epoch + 1}, elapsed: {time_passed_seconds:.0f} sec, train loss: {epoch_loss:.4f}, validation loss: {valid_loss:.4f}\")\n",
    "\n",
    "    if (epoch + 1) % 10 == 0:\n",
    "        random_eval_idx = int(np.random.choice(list(range(len(train_data)))))\n",
    "        print_sentences(data=train_data, idx=random_eval_idx, model=translator, src_lang=src_lang, tgt_lang=tgt_lang, device=device)\n",
    "\n",
    "    print(\"-\" * 100)"
   ]
  },
  {
   "cell_type": "code",
   "execution_count": 54,
   "metadata": {},
   "outputs": [
    {
     "data": {
      "text/plain": [
       "Text(0.5, 1.0, 'Average loss per epoch')"
      ]
     },
     "execution_count": 54,
     "metadata": {},
     "output_type": "execute_result"
    },
    {
     "data": {
      "image/png": "[encoded data removed]",
      "text/plain": [
       "<Figure size 640x480 with 1 Axes>"
      ]
     },
     "metadata": {},
     "output_type": "display_data"
    }
   ],
   "source": [
    "plt.plot(train_losses, color=\"blue\", label=\"Train\")\n",
    "plt.plot(valid_losses, color=\"red\", label=\"Validation\")\n",
    "plt.legend()\n",
    "plt.grid()\n",
    "plt.title(\"Average loss per epoch\")"
   ]
  },
  {
   "cell_type": "markdown",
   "metadata": {},
   "source": [
    "### Evaluate"
   ]
  },
  {
   "cell_type": "code",
   "execution_count": 24,
   "metadata": {},
   "outputs": [
    {
     "name": "stderr",
     "output_type": "stream",
     "text": [
      "/var/folders/4s/mv0mfx752sb76dmyd9_tr18w0000gn/T/ipykernel_62249/1683440986.py:1: FutureWarning: You are using `torch.load` with `weights_only=False` (the current default value), which uses the default pickle module implicitly. It is possible to construct malicious pickle data which will execute arbitrary code during unpickling (See https://github.com/pytorch/pytorch/blob/main/SECURITY.md#untrusted-models for more details). In a future release, the default value for `weights_only` will be flipped to `True`. This limits the functions that could be executed during unpickling. Arbitrary objects will no longer be allowed to be loaded via this mode unless they are explicitly allowlisted by the user via `torch.serialization.add_safe_globals`. We recommend you start setting `weights_only=True` for any use case where you don't have full control of the loaded file. Please open an issue on GitHub for any issues related to this experimental feature.\n",
      "  translator.load_state_dict(torch.load(f\"{PARENT_DIR}/models/{model_name}_bestval.pt\", map_location=device))\n"
     ]
    },
    {
     "data": {
      "text/plain": [
       "TranslatorModel(\n",
       "  (encoder): Encoder(\n",
       "    (token_embedding): Embedding(8000, 256)\n",
       "    (positional_embedding): Embedding(128, 256)\n",
       "    (dropout): Dropout(p=0.2, inplace=False)\n",
       "    (layers): ModuleList(\n",
       "      (0-1): 2 x EncoderLayer(\n",
       "        (norm_1): LayerNorm((256,), eps=1e-05, elementwise_affine=True)\n",
       "        (norm_2): LayerNorm((256,), eps=1e-05, elementwise_affine=True)\n",
       "        (dropout): Dropout(p=0.2, inplace=False)\n",
       "        (ff): PositionWiseFeedForward(\n",
       "          (fc_1): Linear(in_features=256, out_features=1024, bias=True)\n",
       "          (fc_2): Linear(in_features=1024, out_features=256, bias=True)\n",
       "          (dropout): Dropout(p=0.1, inplace=False)\n",
       "        )\n",
       "        (mha): MultiHeadAttention(\n",
       "          (fc_q): Linear(in_features=256, out_features=256, bias=True)\n",
       "          (fc_k): Linear(in_features=256, out_features=256, bias=True)\n",
       "          (fc_v): Linear(in_features=256, out_features=256, bias=True)\n",
       "          (out): Linear(in_features=256, out_features=256, bias=True)\n",
       "          (dropout): Dropout(p=0.2, inplace=False)\n",
       "        )\n",
       "      )\n",
       "    )\n",
       "  )\n",
       "  (decoder): Decoder(\n",
       "    (token_embedding): Embedding(8000, 256)\n",
       "    (positional_embedding): Embedding(128, 256)\n",
       "    (dropout): Dropout(p=0.2, inplace=False)\n",
       "    (fc): Linear(in_features=256, out_features=8000, bias=True)\n",
       "    (layers): ModuleList(\n",
       "      (0-1): 2 x DecoderLayer(\n",
       "        (norm_1): LayerNorm((256,), eps=1e-05, elementwise_affine=True)\n",
       "        (norm_2): LayerNorm((256,), eps=1e-05, elementwise_affine=True)\n",
       "        (norm_3): LayerNorm((256,), eps=1e-05, elementwise_affine=True)\n",
       "        (dropout): Dropout(p=0.2, inplace=False)\n",
       "        (ff): PositionWiseFeedForward(\n",
       "          (fc_1): Linear(in_features=256, out_features=1024, bias=True)\n",
       "          (fc_2): Linear(in_features=1024, out_features=256, bias=True)\n",
       "          (dropout): Dropout(p=0.1, inplace=False)\n",
       "        )\n",
       "        (self_attention): MultiHeadAttention(\n",
       "          (fc_q): Linear(in_features=256, out_features=256, bias=True)\n",
       "          (fc_k): Linear(in_features=256, out_features=256, bias=True)\n",
       "          (fc_v): Linear(in_features=256, out_features=256, bias=True)\n",
       "          (out): Linear(in_features=256, out_features=256, bias=True)\n",
       "          (dropout): Dropout(p=0.2, inplace=False)\n",
       "        )\n",
       "        (enc_attention): MultiHeadAttention(\n",
       "          (fc_q): Linear(in_features=256, out_features=256, bias=True)\n",
       "          (fc_k): Linear(in_features=256, out_features=256, bias=True)\n",
       "          (fc_v): Linear(in_features=256, out_features=256, bias=True)\n",
       "          (out): Linear(in_features=256, out_features=256, bias=True)\n",
       "          (dropout): Dropout(p=0.2, inplace=False)\n",
       "        )\n",
       "      )\n",
       "    )\n",
       "  )\n",
       ")"
      ]
     },
     "execution_count": 24,
     "metadata": {},
     "output_type": "execute_result"
    }
   ],
   "source": [
    "translator.load_state_dict(torch.load(f\"{PARENT_DIR}/models/{model_name}_bestval.pt\", map_location=device))\n",
    "translator.eval()"
   ]
  },
  {
   "cell_type": "markdown",
   "metadata": {},
   "source": [
    "Let's evaluate how our model translates sentences from the training set."
   ]
  },
  {
   "cell_type": "code",
   "execution_count": 26,
   "metadata": {},
   "outputs": [
    {
     "name": "stdout",
     "output_type": "stream",
     "text": [
      "SOURCE: ich habe eine minute. mein ted wunsch ist also : ich wünsche mir dass ihr -- ihr persönlich und jedes kreative individuum und organisation die ihr kennt -- einen weg findet euch direkt mit einer öffentlichen schule in eurer umgebung zu engagieren und dass ihr dann die geschichte davon erzählt wie ihr involviert wurdet so dass wir innerhalb eines jahres tausend beispiele haben -- ein tausend! -- von transformierenden partnerschaften.\n",
      "TARGET: all right, i ' ve got a minute. so, the ted wish : i wish that you -- you personally and every creative individual and organization you know -- will find a way to directly engage with a public school in your area and that you ' ll then tell the story of how you got involved, so that within a year we have a thousand examples -- a thousand! -- of transformative partnerships.\n",
      "MODEL: so i, i have ve got a minute. my my my ted wish is i wish you you -- your personally and every creative individual and organization that know -- you find a way to engage involved you public public school in your environment, then you ' ve tell tell the story about how you involved involved in that that within a thousand, have a thousand examples -- a thousand examples -- transformation transformationative partnerships. <EOS> transform\n"
     ]
    }
   ],
   "source": [
    "random_eval_idx = int(np.random.choice(list(range(len(train_data)))))\n",
    "print_sentences(data=train_data, idx=random_eval_idx, model=translator, src_lang=src_lang, tgt_lang=tgt_lang, device=device)"
   ]
  },
  {
   "cell_type": "code",
   "execution_count": 27,
   "metadata": {},
   "outputs": [
    {
     "name": "stdout",
     "output_type": "stream",
     "text": [
      "SOURCE: ich füge neue bilder hinzu, weil ich jedes mal wieder etwas dazulerne. wie beim strandgutsammeln -- jedes mal, wenn die flut da war,\n",
      "TARGET: i add new images, because i learn more about it every time i give it. it ' s like beach - combing, you know?\n",
      "MODEL: i add new images, because i ' a about it every time, ' you a <EOS> was s like thees gatherining. every know, <EOS> flu\n",
      "----------------------------------------------------------------------------------------------------\n",
      "SOURCE: und damals war der mars noch viel interessanter als heute. wir dachten, da würde es tiere geben, und wir waren sicher, dass es pflanzen gab, weil sich ja die farben änderten.\n",
      "TARGET: and this was at a time when mars was a hell of a lot more interesting than it is now. we thought there ' d be animals there ; we knew there were plants there ; the colors change, right?\n",
      "MODEL: and then was the the time mars mars was much lot of a lot more interesting than today was,, we thought there were d be animals,, we were that were plants,, it colors changed. because? <EOS> colors\n",
      "----------------------------------------------------------------------------------------------------\n",
      "SOURCE: haben sie schon mal vom phantomschmerz gehört?\n",
      "TARGET: you ' ve heard of phantom limb pain?\n",
      "MODEL: have ' ve heard about phantom pain pain? <EOS>.\n",
      "----------------------------------------------------------------------------------------------------\n",
      "SOURCE: jetzt muss ich meine schuhe ausziehen, um überhaupt an bord zu kommen!\n",
      "TARGET: now i have to take off my shoes or boots to get on an airplane!\n",
      "MODEL: now i have to pull my my shoes to getts to get on boardboard! <EOS>.\n",
      "----------------------------------------------------------------------------------------------------\n",
      "SOURCE: christ anderson : oh ja. dp : halt das, und lass nicht los. sie haben vielleicht das schon mal gesehen :\n",
      "TARGET: chris anderson : oh yeah. dp : hold that and don ' t let go.\n",
      "MODEL: chris anderson : oh yeah. dp : stop that, don ' t let go. you you\n",
      "----------------------------------------------------------------------------------------------------\n"
     ]
    }
   ],
   "source": [
    "idxs = [43, 420, 13, 6, 999]\n",
    "\n",
    "for idx in idxs:\n",
    "    print_sentences(data=train_data, idx=idx, model=translator, src_lang=src_lang, tgt_lang=tgt_lang, device=device)\n",
    "    print(\"-\" * 100)"
   ]
  },
  {
   "cell_type": "markdown",
   "metadata": {},
   "source": [
    "Now let's give it our own sentences."
   ]
  },
  {
   "cell_type": "code",
   "execution_count": 28,
   "metadata": {},
   "outputs": [
    {
     "data": {
      "text/plain": [
       "'<BOS> hello world, how is it going? <EOS>'"
      ]
     },
     "execution_count": 28,
     "metadata": {},
     "output_type": "execute_result"
    }
   ],
   "source": [
    "translate(model=translator,\n",
    "          src=\"Hallo Welt, wie geht es?\",\n",
    "          src_lang=src_lang,\n",
    "          tgt_lang=tgt_lang,\n",
    "          max_tgt_length=100,\n",
    "          device=device)"
   ]
  },
  {
   "cell_type": "markdown",
   "metadata": {},
   "source": [
    "It looks like it is pretty good at translating simple short sentences :)"
   ]
  },
  {
   "cell_type": "code",
   "execution_count": 44,
   "metadata": {},
   "outputs": [
    {
     "data": {
      "application/vnd.jupyter.widget-view+json": {
       "model_id": "13c336e8165647c680afed44c73e510b",
       "version_major": 2,
       "version_minor": 0
      },
      "text/plain": [
       "Downloading builder script:   0%|          | 0.00/5.94k [00:00<?, ?B/s]"
      ]
     },
     "metadata": {},
     "output_type": "display_data"
    },
    {
     "data": {
      "application/vnd.jupyter.widget-view+json": {
       "model_id": "61b5c75c45034f38b858bfbaf8a913b5",
       "version_major": 2,
       "version_minor": 0
      },
      "text/plain": [
       "Downloading extra modules:   0%|          | 0.00/1.55k [00:00<?, ?B/s]"
      ]
     },
     "metadata": {},
     "output_type": "display_data"
    },
    {
     "data": {
      "application/vnd.jupyter.widget-view+json": {
       "model_id": "3a00cc81e3994f4fb5055983a807a55b",
       "version_major": 2,
       "version_minor": 0
      },
      "text/plain": [
       "Downloading extra modules:   0%|          | 0.00/3.34k [00:00<?, ?B/s]"
      ]
     },
     "metadata": {},
     "output_type": "display_data"
    }
   ],
   "source": [
    "bleu = evaluate.load(\"bleu\")\n",
    "\n",
    "def get_tokenizer_fn(tgt_tokenizer: Tokenizer):\n",
    "    def tokenizer_fn(s):\n",
    "        tokens = tgt_tokenizer.encode(s).tokens\n",
    "        return tokens\n",
    "\n",
    "    return tokenizer_fn\n",
    "\n",
    "tokenizer_fn = get_tokenizer_fn(tgt_lang)"
   ]
  },
  {
   "cell_type": "code",
   "execution_count": 45,
   "metadata": {},
   "outputs": [
    {
     "name": "stderr",
     "output_type": "stream",
     "text": [
      "100%|██████████| 8079/8079 [02:22<00:00, 56.71it/s]\n"
     ]
    },
    {
     "data": {
      "text/plain": [
       "{'bleu': 0.3015401110887998,\n",
       " 'precisions': [0.6589879555851704,\n",
       "  0.4061990499090962,\n",
       "  0.25167609631166465,\n",
       "  0.16680703845755157],\n",
       " 'brevity_penalty': 0.9261405723703616,\n",
       " 'length_ratio': 0.9287385850685416,\n",
       " 'translation_length': 178589,\n",
       " 'reference_length': 192292}"
      ]
     },
     "execution_count": 45,
     "metadata": {},
     "output_type": "execute_result"
    }
   ],
   "source": [
    "# compute BLEU metric on test data\n",
    "predictions, references = [], []\n",
    "for idx in tqdm(range(test_data.num_rows)):\n",
    "    data_eval_src = test_data[idx][\"de_ids\"].reshape(1, -1).to(device)\n",
    "    sentence_evaluated = translate(model=translator,\n",
    "                                   src=data_eval_src,\n",
    "                                   src_lang=src_lang,\n",
    "                                   tgt_lang=tgt_lang,\n",
    "                                   max_tgt_length=max_length,\n",
    "                                   device=device,\n",
    "                                   clean=True)\n",
    "\n",
    "\n",
    "    predictions.append(sentence_evaluated)\n",
    "    references.append(test_data[idx][\"translation\"][\"en\"])\n",
    "\n",
    "bleu.compute(predictions=predictions, references=references, tokenizer=tokenizer_fn)"
   ]
  },
  {
   "cell_type": "markdown",
   "metadata": {},
   "source": [
    "### Export to ONNX"
   ]
  },
  {
   "cell_type": "code",
   "execution_count": 34,
   "metadata": {},
   "outputs": [
    {
     "name": "stderr",
     "output_type": "stream",
     "text": [
      "/Users/nivanov/miniconda3/envs/dlmetal/lib/python3.11/site-packages/torch/onnx/_internal/exporter.py:137: UserWarning: torch.onnx.dynamo_export only implements opset version 18 for now. If you need to use a different opset version, please register them with register_custom_op.\n",
      "  warnings.warn(\n"
     ]
    },
    {
     "name": "stdout",
     "output_type": "stream",
     "text": [
      "Applied 41 of general pattern rewrite rules.\n"
     ]
    }
   ],
   "source": [
    "model_src = torch.randint(src_lang.get_vocab_size(), size=(1, max_length))\n",
    "model_tgt = torch.randint(tgt_lang.get_vocab_size(), size=(1, max_length))\n",
    "onnx_program = torch.onnx.dynamo_export(translator, model_src, model_tgt)"
   ]
  },
  {
   "cell_type": "code",
   "execution_count": 35,
   "metadata": {},
   "outputs": [],
   "source": [
    "onnx_program.save(f\"{PARENT_DIR}/models/{model_name}.onnx\")"
   ]
  },
  {
   "cell_type": "code",
   "execution_count": null,
   "metadata": {},
   "outputs": [],
   "source": []
  }
 ],
 "metadata": {
  "kernelspec": {
   "display_name": "deeplearning",
   "language": "python",
   "name": "python3"
  },
  "language_info": {
   "codemirror_mode": {
    "name": "ipython",
    "version": 3
   },
   "file_extension": ".py",
   "mimetype": "text/x-python",
   "name": "python",
   "nbconvert_exporter": "python",
   "pygments_lexer": "ipython3",
   "version": "3.11.9"
  }
 },
 "nbformat": 4,
 "nbformat_minor": 2
}
